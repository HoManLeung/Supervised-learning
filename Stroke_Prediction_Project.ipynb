{
  "nbformat": 4,
  "nbformat_minor": 0,
  "metadata": {
    "colab": {
      "name": "Stroke_Prediction_Project.ipynb",
      "provenance": []
    },
    "kernelspec": {
      "name": "python3",
      "display_name": "Python 3"
    }
  },
  "cells": [
    {
      "cell_type": "markdown",
      "metadata": {
        "id": "YHcuyoOYWVv3"
      },
      "source": [
        "##Inroduction\r\n",
        "\r\n",
        "According to the World Health Organization (WHO) stroke is the 2nd leading cause of death globally, responsible for approximately 11% of total deaths.\r\n",
        "This dataset is used to predict whether a patient is likely to get stroke based on the input parameters like gender, age, various diseases, and smoking status. Each row in the data provides relavant information about the patient."
      ]
    },
    {
      "cell_type": "code",
      "metadata": {
        "id": "Jb7adbKChKkS"
      },
      "source": [
        "import pandas as pd\r\n",
        "import numpy as np\r\n",
        "import matplotlib.pyplot as plt\r\n",
        "import seaborn as sns"
      ],
      "execution_count": 2,
      "outputs": []
    },
    {
      "cell_type": "code",
      "metadata": {
        "colab": {
          "base_uri": "https://localhost:8080/",
          "height": 204
        },
        "id": "T5dchDwtVJhr",
        "outputId": "bbc98f6b-9193-4276-f2fe-48b016fc1d40"
      },
      "source": [
        "df=pd.read_csv(\"/content/drive/MyDrive/healthcare-dataset-stroke-data.csv\")\r\n",
        "df.head()"
      ],
      "execution_count": 3,
      "outputs": [
        {
          "output_type": "execute_result",
          "data": {
            "text/html": [
              "<div>\n",
              "<style scoped>\n",
              "    .dataframe tbody tr th:only-of-type {\n",
              "        vertical-align: middle;\n",
              "    }\n",
              "\n",
              "    .dataframe tbody tr th {\n",
              "        vertical-align: top;\n",
              "    }\n",
              "\n",
              "    .dataframe thead th {\n",
              "        text-align: right;\n",
              "    }\n",
              "</style>\n",
              "<table border=\"1\" class=\"dataframe\">\n",
              "  <thead>\n",
              "    <tr style=\"text-align: right;\">\n",
              "      <th></th>\n",
              "      <th>id</th>\n",
              "      <th>gender</th>\n",
              "      <th>age</th>\n",
              "      <th>hypertension</th>\n",
              "      <th>heart_disease</th>\n",
              "      <th>ever_married</th>\n",
              "      <th>work_type</th>\n",
              "      <th>Residence_type</th>\n",
              "      <th>avg_glucose_level</th>\n",
              "      <th>bmi</th>\n",
              "      <th>smoking_status</th>\n",
              "      <th>stroke</th>\n",
              "    </tr>\n",
              "  </thead>\n",
              "  <tbody>\n",
              "    <tr>\n",
              "      <th>0</th>\n",
              "      <td>9046</td>\n",
              "      <td>Male</td>\n",
              "      <td>67.0</td>\n",
              "      <td>0</td>\n",
              "      <td>1</td>\n",
              "      <td>Yes</td>\n",
              "      <td>Private</td>\n",
              "      <td>Urban</td>\n",
              "      <td>228.69</td>\n",
              "      <td>36.6</td>\n",
              "      <td>formerly smoked</td>\n",
              "      <td>1</td>\n",
              "    </tr>\n",
              "    <tr>\n",
              "      <th>1</th>\n",
              "      <td>51676</td>\n",
              "      <td>Female</td>\n",
              "      <td>61.0</td>\n",
              "      <td>0</td>\n",
              "      <td>0</td>\n",
              "      <td>Yes</td>\n",
              "      <td>Self-employed</td>\n",
              "      <td>Rural</td>\n",
              "      <td>202.21</td>\n",
              "      <td>NaN</td>\n",
              "      <td>never smoked</td>\n",
              "      <td>1</td>\n",
              "    </tr>\n",
              "    <tr>\n",
              "      <th>2</th>\n",
              "      <td>31112</td>\n",
              "      <td>Male</td>\n",
              "      <td>80.0</td>\n",
              "      <td>0</td>\n",
              "      <td>1</td>\n",
              "      <td>Yes</td>\n",
              "      <td>Private</td>\n",
              "      <td>Rural</td>\n",
              "      <td>105.92</td>\n",
              "      <td>32.5</td>\n",
              "      <td>never smoked</td>\n",
              "      <td>1</td>\n",
              "    </tr>\n",
              "    <tr>\n",
              "      <th>3</th>\n",
              "      <td>60182</td>\n",
              "      <td>Female</td>\n",
              "      <td>49.0</td>\n",
              "      <td>0</td>\n",
              "      <td>0</td>\n",
              "      <td>Yes</td>\n",
              "      <td>Private</td>\n",
              "      <td>Urban</td>\n",
              "      <td>171.23</td>\n",
              "      <td>34.4</td>\n",
              "      <td>smokes</td>\n",
              "      <td>1</td>\n",
              "    </tr>\n",
              "    <tr>\n",
              "      <th>4</th>\n",
              "      <td>1665</td>\n",
              "      <td>Female</td>\n",
              "      <td>79.0</td>\n",
              "      <td>1</td>\n",
              "      <td>0</td>\n",
              "      <td>Yes</td>\n",
              "      <td>Self-employed</td>\n",
              "      <td>Rural</td>\n",
              "      <td>174.12</td>\n",
              "      <td>24.0</td>\n",
              "      <td>never smoked</td>\n",
              "      <td>1</td>\n",
              "    </tr>\n",
              "  </tbody>\n",
              "</table>\n",
              "</div>"
            ],
            "text/plain": [
              "      id  gender   age  ...   bmi   smoking_status stroke\n",
              "0   9046    Male  67.0  ...  36.6  formerly smoked      1\n",
              "1  51676  Female  61.0  ...   NaN     never smoked      1\n",
              "2  31112    Male  80.0  ...  32.5     never smoked      1\n",
              "3  60182  Female  49.0  ...  34.4           smokes      1\n",
              "4   1665  Female  79.0  ...  24.0     never smoked      1\n",
              "\n",
              "[5 rows x 12 columns]"
            ]
          },
          "metadata": {
            "tags": []
          },
          "execution_count": 3
        }
      ]
    },
    {
      "cell_type": "markdown",
      "metadata": {
        "id": "g6Eu1bOzc32Q"
      },
      "source": [
        "hypertension: 0 if the patient doesn't have hypertension, 1 if the patient has \r\n",
        "hypertension\r\n",
        "\r\n",
        "heart_disease: 0 if the patient doesn't have any heart diseases, 1 if the patient has a heart disease\r\n",
        "\r\n",
        "bmi: body mass index\r\n",
        "\r\n",
        "stroke: 1 if the patient had a stroke or 0 if not\r\n",
        "\r\n",
        "*Note: \"Unknown\" in smoking_status means that the information is unavailable for this patient"
      ]
    },
    {
      "cell_type": "code",
      "metadata": {
        "id": "3Ec8HhiCXx8X"
      },
      "source": [
        "# drop unnecessary column\r\n",
        "\r\n",
        "df.drop('id',inplace=True,axis=1)"
      ],
      "execution_count": 4,
      "outputs": []
    },
    {
      "cell_type": "markdown",
      "metadata": {
        "id": "ENbf9unwYdy9"
      },
      "source": [
        "# Exploratory data analysis"
      ]
    },
    {
      "cell_type": "code",
      "metadata": {
        "colab": {
          "base_uri": "https://localhost:8080/",
          "height": 282
        },
        "id": "CICq2_H8Y45a",
        "outputId": "015b1976-8845-4843-82cd-df9fbba4f6dd"
      },
      "source": [
        "Male=df[df['gender']=='Male']\r\n",
        "Female=df[df['gender']=='Female']\r\n",
        "\r\n",
        "# As matplotlib cannot use hue function as seaborn, we need to extract male and female data manually\r\n",
        "plt.hist(Male['age'],bins=50,label='Male',alpha=0.3)\r\n",
        "plt.hist(Female['age'],bins=50,label='Female',alpha=0.3)\r\n",
        "plt.legend()"
      ],
      "execution_count": 5,
      "outputs": [
        {
          "output_type": "execute_result",
          "data": {
            "text/plain": [
              "<matplotlib.legend.Legend at 0x7fac6b1c5990>"
            ]
          },
          "metadata": {
            "tags": []
          },
          "execution_count": 5
        },
        {
          "output_type": "display_data",
          "data": {
            "image/png": "[encoded data removed]",
            "text/plain": [
              "<Figure size 432x288 with 1 Axes>"
            ]
          },
          "metadata": {
            "tags": [],
            "needs_background": "light"
          }
        }
      ]
    },
    {
      "cell_type": "code",
      "metadata": {
        "colab": {
          "base_uri": "https://localhost:8080/",
          "height": 420
        },
        "id": "ifHAID4_zv3M",
        "outputId": "645de16f-620e-4a7a-e7da-3fd665e67244"
      },
      "source": [
        "# plot the histogram in seaborn way, it provide more simple way\r\n",
        "sns.displot(df,x='age',bins=50,hue='gender',kde=True,alpha=0.2)"
      ],
      "execution_count": 6,
      "outputs": [
        {
          "output_type": "stream",
          "text": [
            "/usr/local/lib/python3.7/dist-packages/seaborn/distributions.py:306: UserWarning: Dataset has 0 variance; skipping density estimate.\n",
            "  warnings.warn(msg, UserWarning)\n"
          ],
          "name": "stderr"
        },
        {
          "output_type": "execute_result",
          "data": {
            "text/plain": [
              "<seaborn.axisgrid.FacetGrid at 0x7fac6b039bd0>"
            ]
          },
          "metadata": {
            "tags": []
          },
          "execution_count": 6
        },
        {
          "output_type": "display_data",
          "data": {
            "image/png": "[encoded data removed]",
            "text/plain": [
              "<Figure size 432.125x360 with 1 Axes>"
            ]
          },
          "metadata": {
            "tags": [],
            "needs_background": "light"
          }
        }
      ]
    },
    {
      "cell_type": "code",
      "metadata": {
        "colab": {
          "base_uri": "https://localhost:8080/",
          "height": 421
        },
        "id": "mQJHAkt2g75y",
        "outputId": "a48386a9-69e2-4f04-ced1-b45f6362cfe9"
      },
      "source": [
        "fig,ax=plt.subplots(1,2,figsize=(10,6))\r\n",
        "\r\n",
        "ax[0].hist(Male['age'],bins=20,label='Male')\r\n",
        "ax[0].set_title('Male age distribution')\r\n",
        "ax[0].set_xlabel('Age')\r\n",
        "\r\n",
        "ax[1].hist(Female['age'],bins=20,label='Female',color='orange')\r\n",
        "ax[1].set_title('Female age distribution')\r\n",
        "ax[1].set_xlabel('Age')"
      ],
      "execution_count": 7,
      "outputs": [
        {
          "output_type": "execute_result",
          "data": {
            "text/plain": [
              "Text(0.5, 0, 'Age')"
            ]
          },
          "metadata": {
            "tags": []
          },
          "execution_count": 7
        },
        {
          "output_type": "display_data",
          "data": {
            "image/png": "[encoded data removed]",
            "text/plain": [
              "<Figure size 720x432 with 2 Axes>"
            ]
          },
          "metadata": {
            "tags": [],
            "needs_background": "light"
          }
        }
      ]
    },
    {
      "cell_type": "code",
      "metadata": {
        "colab": {
          "base_uri": "https://localhost:8080/",
          "height": 350
        },
        "id": "awSaI09ewk4W",
        "outputId": "edd7ea5a-a48c-4b71-d054-18364c335ab7"
      },
      "source": [
        "sns.countplot('gender',data=df)"
      ],
      "execution_count": 8,
      "outputs": [
        {
          "output_type": "stream",
          "text": [
            "/usr/local/lib/python3.7/dist-packages/seaborn/_decorators.py:43: FutureWarning: Pass the following variable as a keyword arg: x. From version 0.12, the only valid positional argument will be `data`, and passing other arguments without an explicit keyword will result in an error or misinterpretation.\n",
            "  FutureWarning\n"
          ],
          "name": "stderr"
        },
        {
          "output_type": "execute_result",
          "data": {
            "text/plain": [
              "<matplotlib.axes._subplots.AxesSubplot at 0x7fac614d8c10>"
            ]
          },
          "metadata": {
            "tags": []
          },
          "execution_count": 8
        },
        {
          "output_type": "display_data",
          "data": {
            "image/png": "[encoded data removed]",
            "text/plain": [
              "<Figure size 432x288 with 1 Axes>"
            ]
          },
          "metadata": {
            "tags": [],
            "needs_background": "light"
          }
        }
      ]
    },
    {
      "cell_type": "code",
      "metadata": {
        "colab": {
          "base_uri": "https://localhost:8080/",
          "height": 354
        },
        "id": "C7KYyVNQxz1A",
        "outputId": "4fd714ce-d325-4fa9-f2fb-94f5169ff909"
      },
      "source": [
        "sns.countplot('ever_married',data=df)"
      ],
      "execution_count": 9,
      "outputs": [
        {
          "output_type": "stream",
          "text": [
            "/usr/local/lib/python3.7/dist-packages/seaborn/_decorators.py:43: FutureWarning: Pass the following variable as a keyword arg: x. From version 0.12, the only valid positional argument will be `data`, and passing other arguments without an explicit keyword will result in an error or misinterpretation.\n",
            "  FutureWarning\n"
          ],
          "name": "stderr"
        },
        {
          "output_type": "execute_result",
          "data": {
            "text/plain": [
              "<matplotlib.axes._subplots.AxesSubplot at 0x7fac61fa9310>"
            ]
          },
          "metadata": {
            "tags": []
          },
          "execution_count": 9
        },
        {
          "output_type": "display_data",
          "data": {
            "image/png": "[encoded data removed]",
            "text/plain": [
              "<Figure size 432x288 with 1 Axes>"
            ]
          },
          "metadata": {
            "tags": [],
            "needs_background": "light"
          }
        }
      ]
    },
    {
      "cell_type": "code",
      "metadata": {
        "colab": {
          "base_uri": "https://localhost:8080/",
          "height": 458
        },
        "id": "EwvDzkZuyAw0",
        "outputId": "eb77924d-ab71-45bc-c41d-124d9b9e047b"
      },
      "source": [
        "plt.figure(figsize=(15,12))\r\n",
        "g=sns.FacetGrid(df,row='stroke',col='smoking_status',hue='gender',margin_titles=True)\r\n",
        "g.map(plt.scatter,'age','bmi')\r\n",
        "plt.legend(loc='best')\r\n",
        "g.tight_layout()\r\n"
      ],
      "execution_count": 10,
      "outputs": [
        {
          "output_type": "display_data",
          "data": {
            "text/plain": [
              "<Figure size 1080x864 with 0 Axes>"
            ]
          },
          "metadata": {
            "tags": []
          }
        },
        {
          "output_type": "display_data",
          "data": {
            "image/png": "[encoded data removed]",
            "text/plain": [
              "<Figure size 864x432 with 8 Axes>"
            ]
          },
          "metadata": {
            "tags": [],
            "needs_background": "light"
          }
        }
      ]
    },
    {
      "cell_type": "code",
      "metadata": {
        "colab": {
          "base_uri": "https://localhost:8080/",
          "height": 242
        },
        "id": "m42Nwqtptf-6",
        "outputId": "5c590555-0c2f-4aa7-a182-0fc1b22733f4"
      },
      "source": [
        "a=sns.FacetGrid(df,col='gender')\r\n",
        "a.map(plt.scatter,'age','bmi')"
      ],
      "execution_count": 11,
      "outputs": [
        {
          "output_type": "execute_result",
          "data": {
            "text/plain": [
              "<seaborn.axisgrid.FacetGrid at 0x7fac610c1b90>"
            ]
          },
          "metadata": {
            "tags": []
          },
          "execution_count": 11
        },
        {
          "output_type": "display_data",
          "data": {
            "image/png": "[encoded data removed]",
            "text/plain": [
              "<Figure size 648x216 with 3 Axes>"
            ]
          },
          "metadata": {
            "tags": [],
            "needs_background": "light"
          }
        }
      ]
    },
    {
      "cell_type": "markdown",
      "metadata": {
        "id": "FC1U5-rDtyW6"
      },
      "source": [
        "We got the other gender, we will eliminate it as other gender is not possible in the dataset"
      ]
    },
    {
      "cell_type": "markdown",
      "metadata": {
        "id": "rBrN7k4_y8kB"
      },
      "source": [
        "# Data Cleaning"
      ]
    },
    {
      "cell_type": "code",
      "metadata": {
        "id": "oPqBaKqUy_1a"
      },
      "source": [
        "df.drop(df[df.gender=='Other'].index,inplace=True)"
      ],
      "execution_count": 12,
      "outputs": []
    },
    {
      "cell_type": "markdown",
      "metadata": {
        "id": "cXTVM9S0iA_P"
      },
      "source": [
        "The ColumnTransformer is a class in the scikit-learn Python machine learning library that allows you to selectively apply data preparation transforms.\r\n",
        "\r\n",
        "For example, it allows you to apply a specific transform or sequence of transforms to just the numerical columns, and a separate sequence of transforms to just the categorical columns."
      ]
    },
    {
      "cell_type": "code",
      "metadata": {
        "id": "Jxktqybx0nGh"
      },
      "source": [
        "df.reset_index(drop=True,inplace=True)"
      ],
      "execution_count": 13,
      "outputs": []
    },
    {
      "cell_type": "code",
      "metadata": {
        "id": "OM9TUYRcYjnf"
      },
      "source": [
        "from sklearn.preprocessing import OneHotEncoder\r\n",
        "from sklearn.compose import ColumnTransformer\r\n",
        "\r\n",
        "#By default, only the specified columns in transformers are transformed and combined in the output, and the non-specified columns are dropped.\r\n",
        "#By specifying remainder='passthrough', all remaining columns that were not specified in transformers will be automatically passed through\r\n",
        "\r\n",
        "column_tran=ColumnTransformer(transformers=[('cat',OneHotEncoder(),[0,4,5,6,9])])\r\n",
        "ohe_array=column_tran.fit_transform(df)"
      ],
      "execution_count": 14,
      "outputs": []
    },
    {
      "cell_type": "code",
      "metadata": {
        "id": "v8g_KsuimQrZ"
      },
      "source": [
        "name=[]\r\n",
        "\r\n",
        "for i in column_tran.get_feature_names():\r\n",
        "  name.append(i.split('_')[3])"
      ],
      "execution_count": 15,
      "outputs": []
    },
    {
      "cell_type": "code",
      "metadata": {
        "colab": {
          "base_uri": "https://localhost:8080/",
          "height": 204
        },
        "id": "NwAoIJLetcCv",
        "outputId": "4c2c0cfb-4cfb-4c31-db00-5eb77865f07a"
      },
      "source": [
        "ohe_df=pd.DataFrame(ohe_array,columns=name)\r\n",
        "ohe_df.head()"
      ],
      "execution_count": 16,
      "outputs": [
        {
          "output_type": "execute_result",
          "data": {
            "text/html": [
              "<div>\n",
              "<style scoped>\n",
              "    .dataframe tbody tr th:only-of-type {\n",
              "        vertical-align: middle;\n",
              "    }\n",
              "\n",
              "    .dataframe tbody tr th {\n",
              "        vertical-align: top;\n",
              "    }\n",
              "\n",
              "    .dataframe thead th {\n",
              "        text-align: right;\n",
              "    }\n",
              "</style>\n",
              "<table border=\"1\" class=\"dataframe\">\n",
              "  <thead>\n",
              "    <tr style=\"text-align: right;\">\n",
              "      <th></th>\n",
              "      <th>Female</th>\n",
              "      <th>Male</th>\n",
              "      <th>No</th>\n",
              "      <th>Yes</th>\n",
              "      <th>Govt</th>\n",
              "      <th>Never</th>\n",
              "      <th>Private</th>\n",
              "      <th>Self-employed</th>\n",
              "      <th>children</th>\n",
              "      <th>Rural</th>\n",
              "      <th>Urban</th>\n",
              "      <th>Unknown</th>\n",
              "      <th>formerly smoked</th>\n",
              "      <th>never smoked</th>\n",
              "      <th>smokes</th>\n",
              "    </tr>\n",
              "  </thead>\n",
              "  <tbody>\n",
              "    <tr>\n",
              "      <th>0</th>\n",
              "      <td>0.0</td>\n",
              "      <td>1.0</td>\n",
              "      <td>0.0</td>\n",
              "      <td>1.0</td>\n",
              "      <td>0.0</td>\n",
              "      <td>0.0</td>\n",
              "      <td>1.0</td>\n",
              "      <td>0.0</td>\n",
              "      <td>0.0</td>\n",
              "      <td>0.0</td>\n",
              "      <td>1.0</td>\n",
              "      <td>0.0</td>\n",
              "      <td>1.0</td>\n",
              "      <td>0.0</td>\n",
              "      <td>0.0</td>\n",
              "    </tr>\n",
              "    <tr>\n",
              "      <th>1</th>\n",
              "      <td>1.0</td>\n",
              "      <td>0.0</td>\n",
              "      <td>0.0</td>\n",
              "      <td>1.0</td>\n",
              "      <td>0.0</td>\n",
              "      <td>0.0</td>\n",
              "      <td>0.0</td>\n",
              "      <td>1.0</td>\n",
              "      <td>0.0</td>\n",
              "      <td>1.0</td>\n",
              "      <td>0.0</td>\n",
              "      <td>0.0</td>\n",
              "      <td>0.0</td>\n",
              "      <td>1.0</td>\n",
              "      <td>0.0</td>\n",
              "    </tr>\n",
              "    <tr>\n",
              "      <th>2</th>\n",
              "      <td>0.0</td>\n",
              "      <td>1.0</td>\n",
              "      <td>0.0</td>\n",
              "      <td>1.0</td>\n",
              "      <td>0.0</td>\n",
              "      <td>0.0</td>\n",
              "      <td>1.0</td>\n",
              "      <td>0.0</td>\n",
              "      <td>0.0</td>\n",
              "      <td>1.0</td>\n",
              "      <td>0.0</td>\n",
              "      <td>0.0</td>\n",
              "      <td>0.0</td>\n",
              "      <td>1.0</td>\n",
              "      <td>0.0</td>\n",
              "    </tr>\n",
              "    <tr>\n",
              "      <th>3</th>\n",
              "      <td>1.0</td>\n",
              "      <td>0.0</td>\n",
              "      <td>0.0</td>\n",
              "      <td>1.0</td>\n",
              "      <td>0.0</td>\n",
              "      <td>0.0</td>\n",
              "      <td>1.0</td>\n",
              "      <td>0.0</td>\n",
              "      <td>0.0</td>\n",
              "      <td>0.0</td>\n",
              "      <td>1.0</td>\n",
              "      <td>0.0</td>\n",
              "      <td>0.0</td>\n",
              "      <td>0.0</td>\n",
              "      <td>1.0</td>\n",
              "    </tr>\n",
              "    <tr>\n",
              "      <th>4</th>\n",
              "      <td>1.0</td>\n",
              "      <td>0.0</td>\n",
              "      <td>0.0</td>\n",
              "      <td>1.0</td>\n",
              "      <td>0.0</td>\n",
              "      <td>0.0</td>\n",
              "      <td>0.0</td>\n",
              "      <td>1.0</td>\n",
              "      <td>0.0</td>\n",
              "      <td>1.0</td>\n",
              "      <td>0.0</td>\n",
              "      <td>0.0</td>\n",
              "      <td>0.0</td>\n",
              "      <td>1.0</td>\n",
              "      <td>0.0</td>\n",
              "    </tr>\n",
              "  </tbody>\n",
              "</table>\n",
              "</div>"
            ],
            "text/plain": [
              "   Female  Male   No  Yes  ...  Unknown  formerly smoked  never smoked  smokes\n",
              "0     0.0   1.0  0.0  1.0  ...      0.0              1.0           0.0     0.0\n",
              "1     1.0   0.0  0.0  1.0  ...      0.0              0.0           1.0     0.0\n",
              "2     0.0   1.0  0.0  1.0  ...      0.0              0.0           1.0     0.0\n",
              "3     1.0   0.0  0.0  1.0  ...      0.0              0.0           0.0     1.0\n",
              "4     1.0   0.0  0.0  1.0  ...      0.0              0.0           1.0     0.0\n",
              "\n",
              "[5 rows x 15 columns]"
            ]
          },
          "metadata": {
            "tags": []
          },
          "execution_count": 16
        }
      ]
    },
    {
      "cell_type": "code",
      "metadata": {
        "colab": {
          "base_uri": "https://localhost:8080/",
          "height": 204
        },
        "id": "twxJRJEokdNc",
        "outputId": "2eddf5d9-950d-4517-afe8-a50beccb5715"
      },
      "source": [
        "num_df=df.drop(['gender','ever_married','work_type','Residence_type','smoking_status'],axis=1)\r\n",
        "num_df.head()"
      ],
      "execution_count": 17,
      "outputs": [
        {
          "output_type": "execute_result",
          "data": {
            "text/html": [
              "<div>\n",
              "<style scoped>\n",
              "    .dataframe tbody tr th:only-of-type {\n",
              "        vertical-align: middle;\n",
              "    }\n",
              "\n",
              "    .dataframe tbody tr th {\n",
              "        vertical-align: top;\n",
              "    }\n",
              "\n",
              "    .dataframe thead th {\n",
              "        text-align: right;\n",
              "    }\n",
              "</style>\n",
              "<table border=\"1\" class=\"dataframe\">\n",
              "  <thead>\n",
              "    <tr style=\"text-align: right;\">\n",
              "      <th></th>\n",
              "      <th>age</th>\n",
              "      <th>hypertension</th>\n",
              "      <th>heart_disease</th>\n",
              "      <th>avg_glucose_level</th>\n",
              "      <th>bmi</th>\n",
              "      <th>stroke</th>\n",
              "    </tr>\n",
              "  </thead>\n",
              "  <tbody>\n",
              "    <tr>\n",
              "      <th>0</th>\n",
              "      <td>67.0</td>\n",
              "      <td>0</td>\n",
              "      <td>1</td>\n",
              "      <td>228.69</td>\n",
              "      <td>36.6</td>\n",
              "      <td>1</td>\n",
              "    </tr>\n",
              "    <tr>\n",
              "      <th>1</th>\n",
              "      <td>61.0</td>\n",
              "      <td>0</td>\n",
              "      <td>0</td>\n",
              "      <td>202.21</td>\n",
              "      <td>NaN</td>\n",
              "      <td>1</td>\n",
              "    </tr>\n",
              "    <tr>\n",
              "      <th>2</th>\n",
              "      <td>80.0</td>\n",
              "      <td>0</td>\n",
              "      <td>1</td>\n",
              "      <td>105.92</td>\n",
              "      <td>32.5</td>\n",
              "      <td>1</td>\n",
              "    </tr>\n",
              "    <tr>\n",
              "      <th>3</th>\n",
              "      <td>49.0</td>\n",
              "      <td>0</td>\n",
              "      <td>0</td>\n",
              "      <td>171.23</td>\n",
              "      <td>34.4</td>\n",
              "      <td>1</td>\n",
              "    </tr>\n",
              "    <tr>\n",
              "      <th>4</th>\n",
              "      <td>79.0</td>\n",
              "      <td>1</td>\n",
              "      <td>0</td>\n",
              "      <td>174.12</td>\n",
              "      <td>24.0</td>\n",
              "      <td>1</td>\n",
              "    </tr>\n",
              "  </tbody>\n",
              "</table>\n",
              "</div>"
            ],
            "text/plain": [
              "    age  hypertension  heart_disease  avg_glucose_level   bmi  stroke\n",
              "0  67.0             0              1             228.69  36.6       1\n",
              "1  61.0             0              0             202.21   NaN       1\n",
              "2  80.0             0              1             105.92  32.5       1\n",
              "3  49.0             0              0             171.23  34.4       1\n",
              "4  79.0             1              0             174.12  24.0       1"
            ]
          },
          "metadata": {
            "tags": []
          },
          "execution_count": 17
        }
      ]
    },
    {
      "cell_type": "markdown",
      "metadata": {
        "id": "qhAQTh6X38Zm"
      },
      "source": [
        "# Data Imputation"
      ]
    },
    {
      "cell_type": "markdown",
      "metadata": {
        "id": "xUR-KsDW1GCq"
      },
      "source": [
        "we can use the numerical df to perform the missing value imputation\r\n",
        "\r\n",
        "And for Data imputation,we got three approachs and I will explain it one by one as follow:\r\n",
        "\r\n",
        "\r\n",
        "\r\n",
        "1.  Simple Imputation:\r\n",
        "\r\n",
        "Replacing the missing values with the mean, median, or mode in a column is a very basic imputation method. This method is the fastest but doesn’t work well on encoded categorical features. In addition, it doesn’t take correlations between features into account eg SimpleImputation()\r\n",
        "\r\n",
        "2.  KNN Imputation\r\n",
        "\r\n",
        "KNNImputer helps to impute missing values present in the observations by finding the k nearest neighbors with the Euclidean distance matrix\r\n",
        "\r\n",
        "3.  MICE Imputation\r\n",
        "\r\n",
        "Multivariate imputation solves the increased noise problem by factoring in other variables in the data. The basic multiple imputation by chained equations (MICE) assumes that the data are missing at random. We can make an educated guess about its true value by looking at other data samples.\r\n",
        "\r\n",
        "reference link: https://www.youtube.com/watch?v=WPiYOS3qK70"
      ]
    },
    {
      "cell_type": "code",
      "metadata": {
        "colab": {
          "base_uri": "https://localhost:8080/",
          "height": 204
        },
        "id": "is2gqmlt09Me",
        "outputId": "551ccaef-ade1-4033-9a56-cb4ce95977bf"
      },
      "source": [
        "# we can use the numerical df to perform the missing value imputation\r\n",
        "num_df.head()"
      ],
      "execution_count": 18,
      "outputs": [
        {
          "output_type": "execute_result",
          "data": {
            "text/html": [
              "<div>\n",
              "<style scoped>\n",
              "    .dataframe tbody tr th:only-of-type {\n",
              "        vertical-align: middle;\n",
              "    }\n",
              "\n",
              "    .dataframe tbody tr th {\n",
              "        vertical-align: top;\n",
              "    }\n",
              "\n",
              "    .dataframe thead th {\n",
              "        text-align: right;\n",
              "    }\n",
              "</style>\n",
              "<table border=\"1\" class=\"dataframe\">\n",
              "  <thead>\n",
              "    <tr style=\"text-align: right;\">\n",
              "      <th></th>\n",
              "      <th>age</th>\n",
              "      <th>hypertension</th>\n",
              "      <th>heart_disease</th>\n",
              "      <th>avg_glucose_level</th>\n",
              "      <th>bmi</th>\n",
              "      <th>stroke</th>\n",
              "    </tr>\n",
              "  </thead>\n",
              "  <tbody>\n",
              "    <tr>\n",
              "      <th>0</th>\n",
              "      <td>67.0</td>\n",
              "      <td>0</td>\n",
              "      <td>1</td>\n",
              "      <td>228.69</td>\n",
              "      <td>36.6</td>\n",
              "      <td>1</td>\n",
              "    </tr>\n",
              "    <tr>\n",
              "      <th>1</th>\n",
              "      <td>61.0</td>\n",
              "      <td>0</td>\n",
              "      <td>0</td>\n",
              "      <td>202.21</td>\n",
              "      <td>NaN</td>\n",
              "      <td>1</td>\n",
              "    </tr>\n",
              "    <tr>\n",
              "      <th>2</th>\n",
              "      <td>80.0</td>\n",
              "      <td>0</td>\n",
              "      <td>1</td>\n",
              "      <td>105.92</td>\n",
              "      <td>32.5</td>\n",
              "      <td>1</td>\n",
              "    </tr>\n",
              "    <tr>\n",
              "      <th>3</th>\n",
              "      <td>49.0</td>\n",
              "      <td>0</td>\n",
              "      <td>0</td>\n",
              "      <td>171.23</td>\n",
              "      <td>34.4</td>\n",
              "      <td>1</td>\n",
              "    </tr>\n",
              "    <tr>\n",
              "      <th>4</th>\n",
              "      <td>79.0</td>\n",
              "      <td>1</td>\n",
              "      <td>0</td>\n",
              "      <td>174.12</td>\n",
              "      <td>24.0</td>\n",
              "      <td>1</td>\n",
              "    </tr>\n",
              "  </tbody>\n",
              "</table>\n",
              "</div>"
            ],
            "text/plain": [
              "    age  hypertension  heart_disease  avg_glucose_level   bmi  stroke\n",
              "0  67.0             0              1             228.69  36.6       1\n",
              "1  61.0             0              0             202.21   NaN       1\n",
              "2  80.0             0              1             105.92  32.5       1\n",
              "3  49.0             0              0             171.23  34.4       1\n",
              "4  79.0             1              0             174.12  24.0       1"
            ]
          },
          "metadata": {
            "tags": []
          },
          "execution_count": 18
        }
      ]
    },
    {
      "cell_type": "code",
      "metadata": {
        "id": "1NN7auC28Z6k"
      },
      "source": [
        "from sklearn.experimental import enable_iterative_imputer\r\n",
        "from sklearn.impute import IterativeImputer\r\n",
        "\r\n",
        "imp = IterativeImputer(max_iter=10, random_state=0)\r\n",
        "imp_bmi=imp.fit(num_df)\r\n",
        "imp_bmi_array=imp_bmi.transform(num_df)"
      ],
      "execution_count": 19,
      "outputs": []
    },
    {
      "cell_type": "code",
      "metadata": {
        "colab": {
          "base_uri": "https://localhost:8080/",
          "height": 204
        },
        "id": "gOlEGFIU__ne",
        "outputId": "e32f4445-e0b1-4ee7-b0d0-14ec364f6823"
      },
      "source": [
        "imputed_df=pd.DataFrame(imp_bmi_array,columns=num_df.columns)\r\n",
        "imputed_df.head()"
      ],
      "execution_count": 20,
      "outputs": [
        {
          "output_type": "execute_result",
          "data": {
            "text/html": [
              "<div>\n",
              "<style scoped>\n",
              "    .dataframe tbody tr th:only-of-type {\n",
              "        vertical-align: middle;\n",
              "    }\n",
              "\n",
              "    .dataframe tbody tr th {\n",
              "        vertical-align: top;\n",
              "    }\n",
              "\n",
              "    .dataframe thead th {\n",
              "        text-align: right;\n",
              "    }\n",
              "</style>\n",
              "<table border=\"1\" class=\"dataframe\">\n",
              "  <thead>\n",
              "    <tr style=\"text-align: right;\">\n",
              "      <th></th>\n",
              "      <th>age</th>\n",
              "      <th>hypertension</th>\n",
              "      <th>heart_disease</th>\n",
              "      <th>avg_glucose_level</th>\n",
              "      <th>bmi</th>\n",
              "      <th>stroke</th>\n",
              "    </tr>\n",
              "  </thead>\n",
              "  <tbody>\n",
              "    <tr>\n",
              "      <th>0</th>\n",
              "      <td>67.0</td>\n",
              "      <td>0.0</td>\n",
              "      <td>1.0</td>\n",
              "      <td>228.69</td>\n",
              "      <td>36.600000</td>\n",
              "      <td>1.0</td>\n",
              "    </tr>\n",
              "    <tr>\n",
              "      <th>1</th>\n",
              "      <td>61.0</td>\n",
              "      <td>0.0</td>\n",
              "      <td>0.0</td>\n",
              "      <td>202.21</td>\n",
              "      <td>30.975021</td>\n",
              "      <td>1.0</td>\n",
              "    </tr>\n",
              "    <tr>\n",
              "      <th>2</th>\n",
              "      <td>80.0</td>\n",
              "      <td>0.0</td>\n",
              "      <td>1.0</td>\n",
              "      <td>105.92</td>\n",
              "      <td>32.500000</td>\n",
              "      <td>1.0</td>\n",
              "    </tr>\n",
              "    <tr>\n",
              "      <th>3</th>\n",
              "      <td>49.0</td>\n",
              "      <td>0.0</td>\n",
              "      <td>0.0</td>\n",
              "      <td>171.23</td>\n",
              "      <td>34.400000</td>\n",
              "      <td>1.0</td>\n",
              "    </tr>\n",
              "    <tr>\n",
              "      <th>4</th>\n",
              "      <td>79.0</td>\n",
              "      <td>1.0</td>\n",
              "      <td>0.0</td>\n",
              "      <td>174.12</td>\n",
              "      <td>24.000000</td>\n",
              "      <td>1.0</td>\n",
              "    </tr>\n",
              "  </tbody>\n",
              "</table>\n",
              "</div>"
            ],
            "text/plain": [
              "    age  hypertension  heart_disease  avg_glucose_level        bmi  stroke\n",
              "0  67.0           0.0            1.0             228.69  36.600000     1.0\n",
              "1  61.0           0.0            0.0             202.21  30.975021     1.0\n",
              "2  80.0           0.0            1.0             105.92  32.500000     1.0\n",
              "3  49.0           0.0            0.0             171.23  34.400000     1.0\n",
              "4  79.0           1.0            0.0             174.12  24.000000     1.0"
            ]
          },
          "metadata": {
            "tags": []
          },
          "execution_count": 20
        }
      ]
    },
    {
      "cell_type": "code",
      "metadata": {
        "colab": {
          "base_uri": "https://localhost:8080/"
        },
        "id": "krsDAU9Ketcr",
        "outputId": "95700009-c1c3-492e-89c5-ced1b68ebd6a"
      },
      "source": [
        "imputed_df.isnull().sum()"
      ],
      "execution_count": 21,
      "outputs": [
        {
          "output_type": "execute_result",
          "data": {
            "text/plain": [
              "age                  0\n",
              "hypertension         0\n",
              "heart_disease        0\n",
              "avg_glucose_level    0\n",
              "bmi                  0\n",
              "stroke               0\n",
              "dtype: int64"
            ]
          },
          "metadata": {
            "tags": []
          },
          "execution_count": 21
        }
      ]
    },
    {
      "cell_type": "code",
      "metadata": {
        "colab": {
          "base_uri": "https://localhost:8080/",
          "height": 419
        },
        "id": "LhVmkRLkfzou",
        "outputId": "4560b13d-3390-4adb-d5f1-d0537fe8d31a"
      },
      "source": [
        "# Below are the imputed records\r\n",
        "imputed_df.iloc[df[df.bmi.isnull()].index,:]"
      ],
      "execution_count": 22,
      "outputs": [
        {
          "output_type": "execute_result",
          "data": {
            "text/html": [
              "<div>\n",
              "<style scoped>\n",
              "    .dataframe tbody tr th:only-of-type {\n",
              "        vertical-align: middle;\n",
              "    }\n",
              "\n",
              "    .dataframe tbody tr th {\n",
              "        vertical-align: top;\n",
              "    }\n",
              "\n",
              "    .dataframe thead th {\n",
              "        text-align: right;\n",
              "    }\n",
              "</style>\n",
              "<table border=\"1\" class=\"dataframe\">\n",
              "  <thead>\n",
              "    <tr style=\"text-align: right;\">\n",
              "      <th></th>\n",
              "      <th>age</th>\n",
              "      <th>hypertension</th>\n",
              "      <th>heart_disease</th>\n",
              "      <th>avg_glucose_level</th>\n",
              "      <th>bmi</th>\n",
              "      <th>stroke</th>\n",
              "    </tr>\n",
              "  </thead>\n",
              "  <tbody>\n",
              "    <tr>\n",
              "      <th>1</th>\n",
              "      <td>61.0</td>\n",
              "      <td>0.0</td>\n",
              "      <td>0.0</td>\n",
              "      <td>202.21</td>\n",
              "      <td>30.975021</td>\n",
              "      <td>1.0</td>\n",
              "    </tr>\n",
              "    <tr>\n",
              "      <th>8</th>\n",
              "      <td>59.0</td>\n",
              "      <td>0.0</td>\n",
              "      <td>0.0</td>\n",
              "      <td>76.15</td>\n",
              "      <td>28.463428</td>\n",
              "      <td>1.0</td>\n",
              "    </tr>\n",
              "    <tr>\n",
              "      <th>13</th>\n",
              "      <td>78.0</td>\n",
              "      <td>0.0</td>\n",
              "      <td>1.0</td>\n",
              "      <td>219.84</td>\n",
              "      <td>31.275202</td>\n",
              "      <td>1.0</td>\n",
              "    </tr>\n",
              "    <tr>\n",
              "      <th>19</th>\n",
              "      <td>57.0</td>\n",
              "      <td>0.0</td>\n",
              "      <td>1.0</td>\n",
              "      <td>217.08</td>\n",
              "      <td>28.938837</td>\n",
              "      <td>1.0</td>\n",
              "    </tr>\n",
              "    <tr>\n",
              "      <th>27</th>\n",
              "      <td>58.0</td>\n",
              "      <td>0.0</td>\n",
              "      <td>0.0</td>\n",
              "      <td>189.84</td>\n",
              "      <td>30.423337</td>\n",
              "      <td>1.0</td>\n",
              "    </tr>\n",
              "    <tr>\n",
              "      <th>...</th>\n",
              "      <td>...</td>\n",
              "      <td>...</td>\n",
              "      <td>...</td>\n",
              "      <td>...</td>\n",
              "      <td>...</td>\n",
              "      <td>...</td>\n",
              "    </tr>\n",
              "    <tr>\n",
              "      <th>5038</th>\n",
              "      <td>41.0</td>\n",
              "      <td>0.0</td>\n",
              "      <td>0.0</td>\n",
              "      <td>70.15</td>\n",
              "      <td>28.036753</td>\n",
              "      <td>0.0</td>\n",
              "    </tr>\n",
              "    <tr>\n",
              "      <th>5047</th>\n",
              "      <td>40.0</td>\n",
              "      <td>0.0</td>\n",
              "      <td>0.0</td>\n",
              "      <td>191.15</td>\n",
              "      <td>30.129679</td>\n",
              "      <td>0.0</td>\n",
              "    </tr>\n",
              "    <tr>\n",
              "      <th>5092</th>\n",
              "      <td>45.0</td>\n",
              "      <td>1.0</td>\n",
              "      <td>0.0</td>\n",
              "      <td>95.02</td>\n",
              "      <td>30.855009</td>\n",
              "      <td>0.0</td>\n",
              "    </tr>\n",
              "    <tr>\n",
              "      <th>5098</th>\n",
              "      <td>40.0</td>\n",
              "      <td>0.0</td>\n",
              "      <td>0.0</td>\n",
              "      <td>83.94</td>\n",
              "      <td>28.178820</td>\n",
              "      <td>0.0</td>\n",
              "    </tr>\n",
              "    <tr>\n",
              "      <th>5104</th>\n",
              "      <td>80.0</td>\n",
              "      <td>1.0</td>\n",
              "      <td>0.0</td>\n",
              "      <td>83.75</td>\n",
              "      <td>34.460170</td>\n",
              "      <td>0.0</td>\n",
              "    </tr>\n",
              "  </tbody>\n",
              "</table>\n",
              "<p>201 rows × 6 columns</p>\n",
              "</div>"
            ],
            "text/plain": [
              "       age  hypertension  heart_disease  avg_glucose_level        bmi  stroke\n",
              "1     61.0           0.0            0.0             202.21  30.975021     1.0\n",
              "8     59.0           0.0            0.0              76.15  28.463428     1.0\n",
              "13    78.0           0.0            1.0             219.84  31.275202     1.0\n",
              "19    57.0           0.0            1.0             217.08  28.938837     1.0\n",
              "27    58.0           0.0            0.0             189.84  30.423337     1.0\n",
              "...    ...           ...            ...                ...        ...     ...\n",
              "5038  41.0           0.0            0.0              70.15  28.036753     0.0\n",
              "5047  40.0           0.0            0.0             191.15  30.129679     0.0\n",
              "5092  45.0           1.0            0.0              95.02  30.855009     0.0\n",
              "5098  40.0           0.0            0.0              83.94  28.178820     0.0\n",
              "5104  80.0           1.0            0.0              83.75  34.460170     0.0\n",
              "\n",
              "[201 rows x 6 columns]"
            ]
          },
          "metadata": {
            "tags": []
          },
          "execution_count": 22
        }
      ]
    },
    {
      "cell_type": "markdown",
      "metadata": {
        "id": "4slZ2fGgg8v1"
      },
      "source": [
        "# Modeling"
      ]
    },
    {
      "cell_type": "code",
      "metadata": {
        "colab": {
          "base_uri": "https://localhost:8080/",
          "height": 241
        },
        "id": "hL9yfC5NzUWv",
        "outputId": "e90db701-5373-4a29-ef81-d80abc741a88"
      },
      "source": [
        "full_df=pd.concat([ohe_df,imputed_df],axis=1)\r\n",
        "full_df.head()"
      ],
      "execution_count": 23,
      "outputs": [
        {
          "output_type": "execute_result",
          "data": {
            "text/html": [
              "<div>\n",
              "<style scoped>\n",
              "    .dataframe tbody tr th:only-of-type {\n",
              "        vertical-align: middle;\n",
              "    }\n",
              "\n",
              "    .dataframe tbody tr th {\n",
              "        vertical-align: top;\n",
              "    }\n",
              "\n",
              "    .dataframe thead th {\n",
              "        text-align: right;\n",
              "    }\n",
              "</style>\n",
              "<table border=\"1\" class=\"dataframe\">\n",
              "  <thead>\n",
              "    <tr style=\"text-align: right;\">\n",
              "      <th></th>\n",
              "      <th>Female</th>\n",
              "      <th>Male</th>\n",
              "      <th>No</th>\n",
              "      <th>Yes</th>\n",
              "      <th>Govt</th>\n",
              "      <th>Never</th>\n",
              "      <th>Private</th>\n",
              "      <th>Self-employed</th>\n",
              "      <th>children</th>\n",
              "      <th>Rural</th>\n",
              "      <th>Urban</th>\n",
              "      <th>Unknown</th>\n",
              "      <th>formerly smoked</th>\n",
              "      <th>never smoked</th>\n",
              "      <th>smokes</th>\n",
              "      <th>age</th>\n",
              "      <th>hypertension</th>\n",
              "      <th>heart_disease</th>\n",
              "      <th>avg_glucose_level</th>\n",
              "      <th>bmi</th>\n",
              "      <th>stroke</th>\n",
              "    </tr>\n",
              "  </thead>\n",
              "  <tbody>\n",
              "    <tr>\n",
              "      <th>0</th>\n",
              "      <td>0.0</td>\n",
              "      <td>1.0</td>\n",
              "      <td>0.0</td>\n",
              "      <td>1.0</td>\n",
              "      <td>0.0</td>\n",
              "      <td>0.0</td>\n",
              "      <td>1.0</td>\n",
              "      <td>0.0</td>\n",
              "      <td>0.0</td>\n",
              "      <td>0.0</td>\n",
              "      <td>1.0</td>\n",
              "      <td>0.0</td>\n",
              "      <td>1.0</td>\n",
              "      <td>0.0</td>\n",
              "      <td>0.0</td>\n",
              "      <td>67.0</td>\n",
              "      <td>0.0</td>\n",
              "      <td>1.0</td>\n",
              "      <td>228.69</td>\n",
              "      <td>36.600000</td>\n",
              "      <td>1.0</td>\n",
              "    </tr>\n",
              "    <tr>\n",
              "      <th>1</th>\n",
              "      <td>1.0</td>\n",
              "      <td>0.0</td>\n",
              "      <td>0.0</td>\n",
              "      <td>1.0</td>\n",
              "      <td>0.0</td>\n",
              "      <td>0.0</td>\n",
              "      <td>0.0</td>\n",
              "      <td>1.0</td>\n",
              "      <td>0.0</td>\n",
              "      <td>1.0</td>\n",
              "      <td>0.0</td>\n",
              "      <td>0.0</td>\n",
              "      <td>0.0</td>\n",
              "      <td>1.0</td>\n",
              "      <td>0.0</td>\n",
              "      <td>61.0</td>\n",
              "      <td>0.0</td>\n",
              "      <td>0.0</td>\n",
              "      <td>202.21</td>\n",
              "      <td>30.975021</td>\n",
              "      <td>1.0</td>\n",
              "    </tr>\n",
              "    <tr>\n",
              "      <th>2</th>\n",
              "      <td>0.0</td>\n",
              "      <td>1.0</td>\n",
              "      <td>0.0</td>\n",
              "      <td>1.0</td>\n",
              "      <td>0.0</td>\n",
              "      <td>0.0</td>\n",
              "      <td>1.0</td>\n",
              "      <td>0.0</td>\n",
              "      <td>0.0</td>\n",
              "      <td>1.0</td>\n",
              "      <td>0.0</td>\n",
              "      <td>0.0</td>\n",
              "      <td>0.0</td>\n",
              "      <td>1.0</td>\n",
              "      <td>0.0</td>\n",
              "      <td>80.0</td>\n",
              "      <td>0.0</td>\n",
              "      <td>1.0</td>\n",
              "      <td>105.92</td>\n",
              "      <td>32.500000</td>\n",
              "      <td>1.0</td>\n",
              "    </tr>\n",
              "    <tr>\n",
              "      <th>3</th>\n",
              "      <td>1.0</td>\n",
              "      <td>0.0</td>\n",
              "      <td>0.0</td>\n",
              "      <td>1.0</td>\n",
              "      <td>0.0</td>\n",
              "      <td>0.0</td>\n",
              "      <td>1.0</td>\n",
              "      <td>0.0</td>\n",
              "      <td>0.0</td>\n",
              "      <td>0.0</td>\n",
              "      <td>1.0</td>\n",
              "      <td>0.0</td>\n",
              "      <td>0.0</td>\n",
              "      <td>0.0</td>\n",
              "      <td>1.0</td>\n",
              "      <td>49.0</td>\n",
              "      <td>0.0</td>\n",
              "      <td>0.0</td>\n",
              "      <td>171.23</td>\n",
              "      <td>34.400000</td>\n",
              "      <td>1.0</td>\n",
              "    </tr>\n",
              "    <tr>\n",
              "      <th>4</th>\n",
              "      <td>1.0</td>\n",
              "      <td>0.0</td>\n",
              "      <td>0.0</td>\n",
              "      <td>1.0</td>\n",
              "      <td>0.0</td>\n",
              "      <td>0.0</td>\n",
              "      <td>0.0</td>\n",
              "      <td>1.0</td>\n",
              "      <td>0.0</td>\n",
              "      <td>1.0</td>\n",
              "      <td>0.0</td>\n",
              "      <td>0.0</td>\n",
              "      <td>0.0</td>\n",
              "      <td>1.0</td>\n",
              "      <td>0.0</td>\n",
              "      <td>79.0</td>\n",
              "      <td>1.0</td>\n",
              "      <td>0.0</td>\n",
              "      <td>174.12</td>\n",
              "      <td>24.000000</td>\n",
              "      <td>1.0</td>\n",
              "    </tr>\n",
              "  </tbody>\n",
              "</table>\n",
              "</div>"
            ],
            "text/plain": [
              "   Female  Male   No  Yes  ...  heart_disease  avg_glucose_level        bmi  stroke\n",
              "0     0.0   1.0  0.0  1.0  ...            1.0             228.69  36.600000     1.0\n",
              "1     1.0   0.0  0.0  1.0  ...            0.0             202.21  30.975021     1.0\n",
              "2     0.0   1.0  0.0  1.0  ...            1.0             105.92  32.500000     1.0\n",
              "3     1.0   0.0  0.0  1.0  ...            0.0             171.23  34.400000     1.0\n",
              "4     1.0   0.0  0.0  1.0  ...            0.0             174.12  24.000000     1.0\n",
              "\n",
              "[5 rows x 21 columns]"
            ]
          },
          "metadata": {
            "tags": []
          },
          "execution_count": 23
        }
      ]
    },
    {
      "cell_type": "code",
      "metadata": {
        "id": "ydbLzKiTdmrc"
      },
      "source": [
        "from sklearn.model_selection import StratifiedShuffleSplit\r\n",
        "\r\n",
        "x=full_df.drop('stroke',axis=1)\r\n",
        "y=full_df['stroke']\r\n",
        "\r\n",
        "ss_split=StratifiedShuffleSplit(n_splits=10,test_size=0.3,random_state=0)\r\n",
        "\r\n",
        "for train_index,test_index in ss_split.split(x,y):\r\n",
        "  x_train,x_test=x.iloc[train_index],x.iloc[test_index]\r\n",
        "  y_train,y_test=y[train_index],y[test_index]"
      ],
      "execution_count": 24,
      "outputs": []
    },
    {
      "cell_type": "code",
      "metadata": {
        "id": "u4ywAGF4FgEm"
      },
      "source": [
        "#scale the data\r\n",
        "\r\n",
        "from sklearn.preprocessing import StandardScaler\r\n",
        "\r\n",
        "s_scale=StandardScaler()\r\n",
        "x_train=s_scale.fit_transform(x_train)\r\n",
        "x_test=s_scale.transform(x_test)"
      ],
      "execution_count": 25,
      "outputs": []
    },
    {
      "cell_type": "code",
      "metadata": {
        "id": "sf7I-fBJ-RlD"
      },
      "source": [
        "from sklearn.decomposition import PCA\r\n",
        "\r\n",
        "pca=PCA(0.95)\r\n",
        "pca_xtrain=pca.fit_transform(x_train)\r\n",
        "pca_xtest=pca.transform(x_test)"
      ],
      "execution_count": 26,
      "outputs": []
    },
    {
      "cell_type": "code",
      "metadata": {
        "colab": {
          "base_uri": "https://localhost:8080/"
        },
        "id": "jiOaaOjr-r4X",
        "outputId": "92d3e9ce-844c-45cc-ef72-739d0468e07d"
      },
      "source": [
        "np.sum(pca.explained_variance_ratio_)"
      ],
      "execution_count": 27,
      "outputs": [
        {
          "output_type": "execute_result",
          "data": {
            "text/plain": [
              "0.9626011512593751"
            ]
          },
          "metadata": {
            "tags": []
          },
          "execution_count": 27
        }
      ]
    },
    {
      "cell_type": "markdown",
      "metadata": {
        "id": "dvAcCEvf-L7z"
      },
      "source": [
        "I will use Support Vector Machine and Decision Tree classifier model to predict patient stroke rate "
      ]
    },
    {
      "cell_type": "markdown",
      "metadata": {
        "id": "rYOMfUiP-sC0"
      },
      "source": [
        "**Support Vector Machine**"
      ]
    },
    {
      "cell_type": "markdown",
      "metadata": {
        "id": "eF7SZUuJQk-F"
      },
      "source": [
        "1. **C**\r\n",
        "\r\n",
        "C is the penalty parameter of the error term. It controls the trade off between smooth decision boundary and classifying the training points correctly.\r\n",
        "\r\n",
        "\r\n",
        "- smaller  C value leads to a wider street but more margin violations.\r\n",
        "\r\n",
        "- high  C  value the\r\n",
        "classifier makes fewer margin violations but ends up with a smaller margin\r\n",
        "\r\n",
        "\r\n",
        "2. **Gamma**\r\n",
        "\r\n",
        "gamma is a parameter for non linear hyperplanes. The higher the gamma value it tries to exactly fit the training data set\r\n",
        "\r\n",
        "3. **Degree**\r\n",
        "\r\n",
        "degree is a parameter used when kernel is set to ‘poly’. It’s basically the degree of the polynomial used to find the hyperplane to split the data.\r\n"
      ]
    },
    {
      "cell_type": "markdown",
      "metadata": {
        "id": "S3j9hAKnJcY-"
      },
      "source": [
        "![image.png](data:image/png;base64,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)"
      ]
    },
    {
      "cell_type": "markdown",
      "metadata": {
        "id": "JsO7-g9wJ1mJ"
      },
      "source": [
        "![image.png](data:image/png;base64,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)"
      ]
    },
    {
      "cell_type": "code",
      "metadata": {
        "id": "mhfN9cb85dZB",
        "colab": {
          "base_uri": "https://localhost:8080/"
        },
        "outputId": "d8aa817e-66c1-426b-d624-0952bd1114cc"
      },
      "source": [
        "from sklearn.svm import SVC\r\n",
        "from sklearn.model_selection import GridSearchCV\r\n",
        "\r\n",
        "svc=SVC()\r\n",
        "para={'C':[0.1,1,5],'kernel':['linear','rbf'],'gamma':[0.1,1,5]}\r\n",
        "\r\n",
        "svc_grid=GridSearchCV(svc,para,scoring='accuracy',cv=5)\r\n",
        "svc_grid.fit(pca_xtrain,y_train)"
      ],
      "execution_count": 28,
      "outputs": [
        {
          "output_type": "execute_result",
          "data": {
            "text/plain": [
              "GridSearchCV(cv=5, error_score=nan,\n",
              "             estimator=SVC(C=1.0, break_ties=False, cache_size=200,\n",
              "                           class_weight=None, coef0=0.0,\n",
              "                           decision_function_shape='ovr', degree=3,\n",
              "                           gamma='scale', kernel='rbf', max_iter=-1,\n",
              "                           probability=False, random_state=None, shrinking=True,\n",
              "                           tol=0.001, verbose=False),\n",
              "             iid='deprecated', n_jobs=None,\n",
              "             param_grid={'C': [0.1, 1, 5], 'gamma': [0.1, 1, 5],\n",
              "                         'kernel': ['linear', 'rbf']},\n",
              "             pre_dispatch='2*n_jobs', refit=True, return_train_score=False,\n",
              "             scoring='accuracy', verbose=0)"
            ]
          },
          "metadata": {
            "tags": []
          },
          "execution_count": 28
        }
      ]
    },
    {
      "cell_type": "code",
      "metadata": {
        "id": "-QK1ugeS-EK8",
        "colab": {
          "base_uri": "https://localhost:8080/"
        },
        "outputId": "109d74c9-8bb3-4a20-8b2f-c335309f2069"
      },
      "source": [
        "print(svc_grid.best_params_)\r\n",
        "print(svc_grid.best_score_)"
      ],
      "execution_count": 29,
      "outputs": [
        {
          "output_type": "stream",
          "text": [
            "{'C': 0.1, 'gamma': 0.1, 'kernel': 'linear'}\n",
            "0.9513423448060319\n"
          ],
          "name": "stdout"
        }
      ]
    },
    {
      "cell_type": "code",
      "metadata": {
        "id": "Z0M4ACe2Sz7b"
      },
      "source": [
        "from sklearn.metrics import confusion_matrix,classification_report\r\n",
        "\r\n",
        "prediction=svc_grid.predict(pca_xtest)\r\n",
        "\r\n",
        "matrix=confusion_matrix(y_test,prediction)"
      ],
      "execution_count": 30,
      "outputs": []
    },
    {
      "cell_type": "code",
      "metadata": {
        "colab": {
          "base_uri": "https://localhost:8080/",
          "height": 296
        },
        "id": "6UpAJNMmedg8",
        "outputId": "2b79fa3d-ef3a-45d9-bd70-e1885ccaf808"
      },
      "source": [
        "sns.heatmap(matrix,annot=True,fmt='.1f')\r\n",
        "plt.xlabel('Actual')\r\n",
        "plt.ylabel('Prediction')"
      ],
      "execution_count": 31,
      "outputs": [
        {
          "output_type": "execute_result",
          "data": {
            "text/plain": [
              "Text(33.0, 0.5, 'Prediction')"
            ]
          },
          "metadata": {
            "tags": []
          },
          "execution_count": 31
        },
        {
          "output_type": "display_data",
          "data": {
            "image/png": "[encoded data removed]",
            "text/plain": [
              "<Figure size 432x288 with 2 Axes>"
            ]
          },
          "metadata": {
            "tags": [],
            "needs_background": "light"
          }
        }
      ]
    },
    {
      "cell_type": "code",
      "metadata": {
        "colab": {
          "base_uri": "https://localhost:8080/"
        },
        "id": "--TPtURZYGyI",
        "outputId": "b3c6b056-4d5a-4870-ca25-e71c0dab9957"
      },
      "source": [
        "print(classification_report(y_test,prediction))"
      ],
      "execution_count": 34,
      "outputs": [
        {
          "output_type": "stream",
          "text": [
            "              precision    recall  f1-score   support\n",
            "\n",
            "         0.0       0.95      1.00      0.97      1458\n",
            "         1.0       0.00      0.00      0.00        75\n",
            "\n",
            "    accuracy                           0.95      1533\n",
            "   macro avg       0.48      0.50      0.49      1533\n",
            "weighted avg       0.90      0.95      0.93      1533\n",
            "\n"
          ],
          "name": "stdout"
        },
        {
          "output_type": "stream",
          "text": [
            "/usr/local/lib/python3.7/dist-packages/sklearn/metrics/_classification.py:1272: UndefinedMetricWarning: Precision and F-score are ill-defined and being set to 0.0 in labels with no predicted samples. Use `zero_division` parameter to control this behavior.\n",
            "  _warn_prf(average, modifier, msg_start, len(result))\n"
          ],
          "name": "stderr"
        }
      ]
    },
    {
      "cell_type": "code",
      "metadata": {
        "colab": {
          "base_uri": "https://localhost:8080/"
        },
        "id": "jfsGre3VeTTS",
        "outputId": "755b98f1-70d0-4194-b510-46b9a421132c"
      },
      "source": [
        "svc_grid.score(pca_xtest,y_test)"
      ],
      "execution_count": 38,
      "outputs": [
        {
          "output_type": "execute_result",
          "data": {
            "text/plain": [
              "0.9510763209393346"
            ]
          },
          "metadata": {
            "tags": []
          },
          "execution_count": 38
        }
      ]
    },
    {
      "cell_type": "markdown",
      "metadata": {
        "id": "fgl3c4rWoSqM"
      },
      "source": [
        "**Random Forest Classifier**"
      ]
    },
    {
      "cell_type": "markdown",
      "metadata": {
        "id": "p2aDWpXQr4Uw"
      },
      "source": [
        "1. n_estimators = number of trees in the foreset\r\n",
        "2. max_features = max number of features considered for splitting a node\r\n",
        "3. max_depth = max number of levels in each decision tree\r\n",
        "4. min_samples_split = min number of data points placed in a node before the node is split\r\n",
        "5. min_samples_leaf = min number of data points allowed in a leaf node\r\n",
        "6. bootstrap = method for sampling data points (with or without replacement)"
      ]
    },
    {
      "cell_type": "code",
      "metadata": {
        "colab": {
          "base_uri": "https://localhost:8080/"
        },
        "id": "ZuEv8S5tP6bd",
        "outputId": "68357673-5ed3-42a4-a9e3-3edada4f440d"
      },
      "source": [
        "from sklearn.ensemble import RandomForestClassifier\r\n",
        "from sklearn.model_selection import RandomizedSearchCV\r\n",
        "\r\n",
        "rfc_model=RandomForestClassifier(n_estimators=5)\r\n",
        "rf_parm={'criterion':['gini','entropy'],'max_features':['auto','sqrt'],'max_depth':[int(x) for x in np.linspace(10,30,10)],'min_samples_split':[10,30,50],\r\n",
        "         'bootstrap':['True','False']}\r\n",
        "\r\n",
        "rs_cv_RF=RandomizedSearchCV(rfc_model,rf_parm,scoring='accuracy',cv=5)\r\n",
        "rs_cv_RF.fit(pca_xtrain,y_train)"
      ],
      "execution_count": 51,
      "outputs": [
        {
          "output_type": "execute_result",
          "data": {
            "text/plain": [
              "RandomizedSearchCV(cv=5, error_score=nan,\n",
              "                   estimator=RandomForestClassifier(bootstrap=True,\n",
              "                                                    ccp_alpha=0.0,\n",
              "                                                    class_weight=None,\n",
              "                                                    criterion='gini',\n",
              "                                                    max_depth=None,\n",
              "                                                    max_features='auto',\n",
              "                                                    max_leaf_nodes=None,\n",
              "                                                    max_samples=None,\n",
              "                                                    min_impurity_decrease=0.0,\n",
              "                                                    min_impurity_split=None,\n",
              "                                                    min_samples_leaf=1,\n",
              "                                                    min_samples_split=2,\n",
              "                                                    min_weight_fraction_leaf=0.0,\n",
              "                                                    n_estimators=5, n_jobs=N...\n",
              "                                                    warm_start=False),\n",
              "                   iid='deprecated', n_iter=10, n_jobs=None,\n",
              "                   param_distributions={'bootstrap': ['True', 'False'],\n",
              "                                        'criterion': ['gini', 'entropy'],\n",
              "                                        'max_depth': [10, 12, 14, 16, 18, 21,\n",
              "                                                      23, 25, 27, 30],\n",
              "                                        'max_features': ['auto', 'sqrt'],\n",
              "                                        'min_samples_split': [10, 30, 50]},\n",
              "                   pre_dispatch='2*n_jobs', random_state=None, refit=True,\n",
              "                   return_train_score=False, scoring='accuracy', verbose=0)"
            ]
          },
          "metadata": {
            "tags": []
          },
          "execution_count": 51
        }
      ]
    },
    {
      "cell_type": "code",
      "metadata": {
        "colab": {
          "base_uri": "https://localhost:8080/"
        },
        "id": "-nVfdckq1JZL",
        "outputId": "6852f99e-d33d-4ce0-d797-8289fafdd078"
      },
      "source": [
        "rs_cv_RF.best_estimator_"
      ],
      "execution_count": 53,
      "outputs": [
        {
          "output_type": "execute_result",
          "data": {
            "text/plain": [
              "RandomForestClassifier(bootstrap='True', ccp_alpha=0.0, class_weight=None,\n",
              "                       criterion='entropy', max_depth=21, max_features='sqrt',\n",
              "                       max_leaf_nodes=None, max_samples=None,\n",
              "                       min_impurity_decrease=0.0, min_impurity_split=None,\n",
              "                       min_samples_leaf=1, min_samples_split=50,\n",
              "                       min_weight_fraction_leaf=0.0, n_estimators=5,\n",
              "                       n_jobs=None, oob_score=False, random_state=None,\n",
              "                       verbose=0, warm_start=False)"
            ]
          },
          "metadata": {
            "tags": []
          },
          "execution_count": 53
        }
      ]
    },
    {
      "cell_type": "code",
      "metadata": {
        "colab": {
          "base_uri": "https://localhost:8080/"
        },
        "id": "JPc0hAdK1SUR",
        "outputId": "788a245e-13a5-4e4d-def2-da642194a07c"
      },
      "source": [
        "rs_cv_RF.best_score_"
      ],
      "execution_count": 54,
      "outputs": [
        {
          "output_type": "execute_result",
          "data": {
            "text/plain": [
              "0.9519017853654723"
            ]
          },
          "metadata": {
            "tags": []
          },
          "execution_count": 54
        }
      ]
    },
    {
      "cell_type": "code",
      "metadata": {
        "colab": {
          "base_uri": "https://localhost:8080/",
          "height": 296
        },
        "id": "JfgC02cv315h",
        "outputId": "d680bf3c-eaa5-4be9-a337-0a93a28d73b5"
      },
      "source": [
        "RF_prediction=rs_cv_RF.predict(pca_xtest)\r\n",
        "\r\n",
        "rf_cm=confusion_matrix(y_test,RF_prediction)\r\n",
        "\r\n",
        "sns.heatmap(rf_cm,annot=True,fmt='.1f')\r\n",
        "plt.xlabel('Actual')\r\n",
        "plt.ylabel('Prediction')"
      ],
      "execution_count": 56,
      "outputs": [
        {
          "output_type": "execute_result",
          "data": {
            "text/plain": [
              "Text(33.0, 0.5, 'Prediction')"
            ]
          },
          "metadata": {
            "tags": []
          },
          "execution_count": 56
        },
        {
          "output_type": "display_data",
          "data": {
            "image/png": "[encoded data removed]",
            "text/plain": [
              "<Figure size 432x288 with 2 Axes>"
            ]
          },
          "metadata": {
            "tags": [],
            "needs_background": "light"
          }
        }
      ]
    },
    {
      "cell_type": "code",
      "metadata": {
        "colab": {
          "base_uri": "https://localhost:8080/"
        },
        "id": "DsxBcnJo4ZD0",
        "outputId": "b187e5b0-5582-44a8-c775-1c73db4736d9"
      },
      "source": [
        "print(classification_report(y_test,RF_prediction))"
      ],
      "execution_count": 58,
      "outputs": [
        {
          "output_type": "stream",
          "text": [
            "              precision    recall  f1-score   support\n",
            "\n",
            "         0.0       0.95      1.00      0.97      1458\n",
            "         1.0       0.33      0.03      0.05        75\n",
            "\n",
            "    accuracy                           0.95      1533\n",
            "   macro avg       0.64      0.51      0.51      1533\n",
            "weighted avg       0.92      0.95      0.93      1533\n",
            "\n"
          ],
          "name": "stdout"
        }
      ]
    },
    {
      "cell_type": "code",
      "metadata": {
        "id": "WNNvScPO4rey"
      },
      "source": [
        ""
      ],
      "execution_count": null,
      "outputs": []
    }
  ]
}