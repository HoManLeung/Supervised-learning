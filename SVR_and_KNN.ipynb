{
  "nbformat": 4,
  "nbformat_minor": 0,
  "metadata": {
    "kernelspec": {
      "display_name": "Python 3",
      "language": "python",
      "name": "python3"
    },
    "language_info": {
      "codemirror_mode": {
        "name": "ipython",
        "version": 3
      },
      "file_extension": ".py",
      "mimetype": "text/x-python",
      "name": "python",
      "nbconvert_exporter": "python",
      "pygments_lexer": "ipython3",
      "version": "3.8.3"
    },
    "colab": {
      "name": "SVR and KNN.ipynb",
      "provenance": []
    }
  },
  "cells": [
    {
      "cell_type": "markdown",
      "metadata": {
        "id": "Hox2LWWhhahj"
      },
      "source": [
        "1. Try a Support Vector Machine regressor (sklearn.svm.SVR), with various hyperparameters such as kernel=\"linear\" (with various values for the C hyperparameter) or kernel=\"rbf\" (with various values for the C and gamma hyperparameters). Don’t worry about what these hyperparameters mean for now. How does the best SVR predictor perform?"
      ]
    },
    {
      "cell_type": "code",
      "metadata": {
        "id": "iwpKbqN4hahp"
      },
      "source": [
        "import pandas as pd\n",
        "import numpy as np\n",
        "import matplotlib.pyplot as plt\n",
        "import seaborn as sns"
      ],
      "execution_count": null,
      "outputs": []
    },
    {
      "cell_type": "code",
      "metadata": {
        "id": "MYw926J3hahw",
        "outputId": "6a54e33a-fb17-4d40-808e-2f94f4583d01"
      },
      "source": [
        "df=pd.read_csv(\"https://raw.githubusercontent.com/ageron/handson-ml2/master/datasets/housing/housing.csv\",header=0)\n",
        "df.head()"
      ],
      "execution_count": null,
      "outputs": [
        {
          "output_type": "execute_result",
          "data": {
            "text/html": [
              "<div>\n",
              "<style scoped>\n",
              "    .dataframe tbody tr th:only-of-type {\n",
              "        vertical-align: middle;\n",
              "    }\n",
              "\n",
              "    .dataframe tbody tr th {\n",
              "        vertical-align: top;\n",
              "    }\n",
              "\n",
              "    .dataframe thead th {\n",
              "        text-align: right;\n",
              "    }\n",
              "</style>\n",
              "<table border=\"1\" class=\"dataframe\">\n",
              "  <thead>\n",
              "    <tr style=\"text-align: right;\">\n",
              "      <th></th>\n",
              "      <th>longitude</th>\n",
              "      <th>latitude</th>\n",
              "      <th>housing_median_age</th>\n",
              "      <th>total_rooms</th>\n",
              "      <th>total_bedrooms</th>\n",
              "      <th>population</th>\n",
              "      <th>households</th>\n",
              "      <th>median_income</th>\n",
              "      <th>median_house_value</th>\n",
              "      <th>ocean_proximity</th>\n",
              "    </tr>\n",
              "  </thead>\n",
              "  <tbody>\n",
              "    <tr>\n",
              "      <th>0</th>\n",
              "      <td>-122.23</td>\n",
              "      <td>37.88</td>\n",
              "      <td>41.0</td>\n",
              "      <td>880.0</td>\n",
              "      <td>129.0</td>\n",
              "      <td>322.0</td>\n",
              "      <td>126.0</td>\n",
              "      <td>8.3252</td>\n",
              "      <td>452600.0</td>\n",
              "      <td>NEAR BAY</td>\n",
              "    </tr>\n",
              "    <tr>\n",
              "      <th>1</th>\n",
              "      <td>-122.22</td>\n",
              "      <td>37.86</td>\n",
              "      <td>21.0</td>\n",
              "      <td>7099.0</td>\n",
              "      <td>1106.0</td>\n",
              "      <td>2401.0</td>\n",
              "      <td>1138.0</td>\n",
              "      <td>8.3014</td>\n",
              "      <td>358500.0</td>\n",
              "      <td>NEAR BAY</td>\n",
              "    </tr>\n",
              "    <tr>\n",
              "      <th>2</th>\n",
              "      <td>-122.24</td>\n",
              "      <td>37.85</td>\n",
              "      <td>52.0</td>\n",
              "      <td>1467.0</td>\n",
              "      <td>190.0</td>\n",
              "      <td>496.0</td>\n",
              "      <td>177.0</td>\n",
              "      <td>7.2574</td>\n",
              "      <td>352100.0</td>\n",
              "      <td>NEAR BAY</td>\n",
              "    </tr>\n",
              "    <tr>\n",
              "      <th>3</th>\n",
              "      <td>-122.25</td>\n",
              "      <td>37.85</td>\n",
              "      <td>52.0</td>\n",
              "      <td>1274.0</td>\n",
              "      <td>235.0</td>\n",
              "      <td>558.0</td>\n",
              "      <td>219.0</td>\n",
              "      <td>5.6431</td>\n",
              "      <td>341300.0</td>\n",
              "      <td>NEAR BAY</td>\n",
              "    </tr>\n",
              "    <tr>\n",
              "      <th>4</th>\n",
              "      <td>-122.25</td>\n",
              "      <td>37.85</td>\n",
              "      <td>52.0</td>\n",
              "      <td>1627.0</td>\n",
              "      <td>280.0</td>\n",
              "      <td>565.0</td>\n",
              "      <td>259.0</td>\n",
              "      <td>3.8462</td>\n",
              "      <td>342200.0</td>\n",
              "      <td>NEAR BAY</td>\n",
              "    </tr>\n",
              "  </tbody>\n",
              "</table>\n",
              "</div>"
            ],
            "text/plain": [
              "   longitude  latitude  housing_median_age  total_rooms  total_bedrooms  \\\n",
              "0    -122.23     37.88                41.0        880.0           129.0   \n",
              "1    -122.22     37.86                21.0       7099.0          1106.0   \n",
              "2    -122.24     37.85                52.0       1467.0           190.0   \n",
              "3    -122.25     37.85                52.0       1274.0           235.0   \n",
              "4    -122.25     37.85                52.0       1627.0           280.0   \n",
              "\n",
              "   population  households  median_income  median_house_value ocean_proximity  \n",
              "0       322.0       126.0         8.3252            452600.0        NEAR BAY  \n",
              "1      2401.0      1138.0         8.3014            358500.0        NEAR BAY  \n",
              "2       496.0       177.0         7.2574            352100.0        NEAR BAY  \n",
              "3       558.0       219.0         5.6431            341300.0        NEAR BAY  \n",
              "4       565.0       259.0         3.8462            342200.0        NEAR BAY  "
            ]
          },
          "metadata": {
            "tags": []
          },
          "execution_count": 46
        }
      ]
    },
    {
      "cell_type": "code",
      "metadata": {
        "id": "2ibLK-7Ehah5"
      },
      "source": [
        "from sklearn.pipeline import Pipeline\n",
        "from sklearn.model_selection import train_test_split\n",
        "from sklearn.impute import SimpleImputer\n",
        "from sklearn.preprocessing import OneHotEncoder,MinMaxScaler,StandardScaler\n",
        "from sklearn.compose import ColumnTransformer"
      ],
      "execution_count": null,
      "outputs": []
    },
    {
      "cell_type": "code",
      "metadata": {
        "id": "XOgcDFk3hah7",
        "outputId": "4922be47-1937-4b38-9424-c1d1329251c2"
      },
      "source": [
        "df.isnull().sum()"
      ],
      "execution_count": null,
      "outputs": [
        {
          "output_type": "execute_result",
          "data": {
            "text/plain": [
              "longitude               0\n",
              "latitude                0\n",
              "housing_median_age      0\n",
              "total_rooms             0\n",
              "total_bedrooms        207\n",
              "population              0\n",
              "households              0\n",
              "median_income           0\n",
              "median_house_value      0\n",
              "ocean_proximity         0\n",
              "dtype: int64"
            ]
          },
          "metadata": {
            "tags": []
          },
          "execution_count": 48
        }
      ]
    },
    {
      "cell_type": "markdown",
      "metadata": {
        "id": "K8LLt8c0hah-"
      },
      "source": [
        "As the total_bedrooms got 207 missing value, so we need to impute the missing value or drop value"
      ]
    },
    {
      "cell_type": "code",
      "metadata": {
        "id": "n6enbmIVhaiA"
      },
      "source": [
        "df[\"rooms_per_household\"] = df[\"total_rooms\"]/df[\"households\"]\n",
        "df[\"bedrooms_per_room\"] = df[\"total_bedrooms\"]/df[\"total_rooms\"]\n",
        "df[\"population_per_household\"]=df[\"population\"]/df[\"households\"]"
      ],
      "execution_count": null,
      "outputs": []
    },
    {
      "cell_type": "code",
      "metadata": {
        "id": "RkXdL8zchaiB",
        "outputId": "53f82329-c2ea-4cb5-8cdd-4c7677e165c1"
      },
      "source": [
        "df.head()"
      ],
      "execution_count": null,
      "outputs": [
        {
          "output_type": "execute_result",
          "data": {
            "text/html": [
              "<div>\n",
              "<style scoped>\n",
              "    .dataframe tbody tr th:only-of-type {\n",
              "        vertical-align: middle;\n",
              "    }\n",
              "\n",
              "    .dataframe tbody tr th {\n",
              "        vertical-align: top;\n",
              "    }\n",
              "\n",
              "    .dataframe thead th {\n",
              "        text-align: right;\n",
              "    }\n",
              "</style>\n",
              "<table border=\"1\" class=\"dataframe\">\n",
              "  <thead>\n",
              "    <tr style=\"text-align: right;\">\n",
              "      <th></th>\n",
              "      <th>longitude</th>\n",
              "      <th>latitude</th>\n",
              "      <th>housing_median_age</th>\n",
              "      <th>total_rooms</th>\n",
              "      <th>total_bedrooms</th>\n",
              "      <th>population</th>\n",
              "      <th>households</th>\n",
              "      <th>median_income</th>\n",
              "      <th>median_house_value</th>\n",
              "      <th>ocean_proximity</th>\n",
              "      <th>rooms_per_household</th>\n",
              "      <th>bedrooms_per_room</th>\n",
              "      <th>population_per_household</th>\n",
              "    </tr>\n",
              "  </thead>\n",
              "  <tbody>\n",
              "    <tr>\n",
              "      <th>0</th>\n",
              "      <td>-122.23</td>\n",
              "      <td>37.88</td>\n",
              "      <td>41.0</td>\n",
              "      <td>880.0</td>\n",
              "      <td>129.0</td>\n",
              "      <td>322.0</td>\n",
              "      <td>126.0</td>\n",
              "      <td>8.3252</td>\n",
              "      <td>452600.0</td>\n",
              "      <td>NEAR BAY</td>\n",
              "      <td>6.984127</td>\n",
              "      <td>0.146591</td>\n",
              "      <td>2.555556</td>\n",
              "    </tr>\n",
              "    <tr>\n",
              "      <th>1</th>\n",
              "      <td>-122.22</td>\n",
              "      <td>37.86</td>\n",
              "      <td>21.0</td>\n",
              "      <td>7099.0</td>\n",
              "      <td>1106.0</td>\n",
              "      <td>2401.0</td>\n",
              "      <td>1138.0</td>\n",
              "      <td>8.3014</td>\n",
              "      <td>358500.0</td>\n",
              "      <td>NEAR BAY</td>\n",
              "      <td>6.238137</td>\n",
              "      <td>0.155797</td>\n",
              "      <td>2.109842</td>\n",
              "    </tr>\n",
              "    <tr>\n",
              "      <th>2</th>\n",
              "      <td>-122.24</td>\n",
              "      <td>37.85</td>\n",
              "      <td>52.0</td>\n",
              "      <td>1467.0</td>\n",
              "      <td>190.0</td>\n",
              "      <td>496.0</td>\n",
              "      <td>177.0</td>\n",
              "      <td>7.2574</td>\n",
              "      <td>352100.0</td>\n",
              "      <td>NEAR BAY</td>\n",
              "      <td>8.288136</td>\n",
              "      <td>0.129516</td>\n",
              "      <td>2.802260</td>\n",
              "    </tr>\n",
              "    <tr>\n",
              "      <th>3</th>\n",
              "      <td>-122.25</td>\n",
              "      <td>37.85</td>\n",
              "      <td>52.0</td>\n",
              "      <td>1274.0</td>\n",
              "      <td>235.0</td>\n",
              "      <td>558.0</td>\n",
              "      <td>219.0</td>\n",
              "      <td>5.6431</td>\n",
              "      <td>341300.0</td>\n",
              "      <td>NEAR BAY</td>\n",
              "      <td>5.817352</td>\n",
              "      <td>0.184458</td>\n",
              "      <td>2.547945</td>\n",
              "    </tr>\n",
              "    <tr>\n",
              "      <th>4</th>\n",
              "      <td>-122.25</td>\n",
              "      <td>37.85</td>\n",
              "      <td>52.0</td>\n",
              "      <td>1627.0</td>\n",
              "      <td>280.0</td>\n",
              "      <td>565.0</td>\n",
              "      <td>259.0</td>\n",
              "      <td>3.8462</td>\n",
              "      <td>342200.0</td>\n",
              "      <td>NEAR BAY</td>\n",
              "      <td>6.281853</td>\n",
              "      <td>0.172096</td>\n",
              "      <td>2.181467</td>\n",
              "    </tr>\n",
              "  </tbody>\n",
              "</table>\n",
              "</div>"
            ],
            "text/plain": [
              "   longitude  latitude  housing_median_age  total_rooms  total_bedrooms  \\\n",
              "0    -122.23     37.88                41.0        880.0           129.0   \n",
              "1    -122.22     37.86                21.0       7099.0          1106.0   \n",
              "2    -122.24     37.85                52.0       1467.0           190.0   \n",
              "3    -122.25     37.85                52.0       1274.0           235.0   \n",
              "4    -122.25     37.85                52.0       1627.0           280.0   \n",
              "\n",
              "   population  households  median_income  median_house_value ocean_proximity  \\\n",
              "0       322.0       126.0         8.3252            452600.0        NEAR BAY   \n",
              "1      2401.0      1138.0         8.3014            358500.0        NEAR BAY   \n",
              "2       496.0       177.0         7.2574            352100.0        NEAR BAY   \n",
              "3       558.0       219.0         5.6431            341300.0        NEAR BAY   \n",
              "4       565.0       259.0         3.8462            342200.0        NEAR BAY   \n",
              "\n",
              "   rooms_per_household  bedrooms_per_room  population_per_household  \n",
              "0             6.984127           0.146591                  2.555556  \n",
              "1             6.238137           0.155797                  2.109842  \n",
              "2             8.288136           0.129516                  2.802260  \n",
              "3             5.817352           0.184458                  2.547945  \n",
              "4             6.281853           0.172096                  2.181467  "
            ]
          },
          "metadata": {
            "tags": []
          },
          "execution_count": 50
        }
      ]
    },
    {
      "cell_type": "code",
      "metadata": {
        "id": "dL7uadYAhaiE"
      },
      "source": [
        "num=df.drop(['ocean_proximity','median_house_value'],axis=1)\n",
        "cat=df[['ocean_proximity']]\n",
        "label=df[['median_house_value']]"
      ],
      "execution_count": null,
      "outputs": []
    },
    {
      "cell_type": "code",
      "metadata": {
        "id": "xQl4CVMrhaiF"
      },
      "source": [
        "impute=SimpleImputer(strategy='median')"
      ],
      "execution_count": null,
      "outputs": []
    },
    {
      "cell_type": "code",
      "metadata": {
        "id": "53KPL5CGhaiG",
        "outputId": "3a5f20ba-b6bc-4572-dbf0-fc15343fa161"
      },
      "source": [
        "num_pipline=Pipeline([('impute',impute),('standard_scale',StandardScaler())])\n",
        "num_features=num_pipline.fit_transform(num)\n",
        "num_df=pd.DataFrame(num_features,columns=num.columns)\n",
        "num_df.head()"
      ],
      "execution_count": null,
      "outputs": [
        {
          "output_type": "execute_result",
          "data": {
            "text/html": [
              "<div>\n",
              "<style scoped>\n",
              "    .dataframe tbody tr th:only-of-type {\n",
              "        vertical-align: middle;\n",
              "    }\n",
              "\n",
              "    .dataframe tbody tr th {\n",
              "        vertical-align: top;\n",
              "    }\n",
              "\n",
              "    .dataframe thead th {\n",
              "        text-align: right;\n",
              "    }\n",
              "</style>\n",
              "<table border=\"1\" class=\"dataframe\">\n",
              "  <thead>\n",
              "    <tr style=\"text-align: right;\">\n",
              "      <th></th>\n",
              "      <th>longitude</th>\n",
              "      <th>latitude</th>\n",
              "      <th>housing_median_age</th>\n",
              "      <th>total_rooms</th>\n",
              "      <th>total_bedrooms</th>\n",
              "      <th>population</th>\n",
              "      <th>households</th>\n",
              "      <th>median_income</th>\n",
              "      <th>rooms_per_household</th>\n",
              "      <th>bedrooms_per_room</th>\n",
              "      <th>population_per_household</th>\n",
              "    </tr>\n",
              "  </thead>\n",
              "  <tbody>\n",
              "    <tr>\n",
              "      <th>0</th>\n",
              "      <td>-1.327835</td>\n",
              "      <td>1.052548</td>\n",
              "      <td>0.982143</td>\n",
              "      <td>-0.804819</td>\n",
              "      <td>-0.972476</td>\n",
              "      <td>-0.974429</td>\n",
              "      <td>-0.977033</td>\n",
              "      <td>2.344766</td>\n",
              "      <td>0.628559</td>\n",
              "      <td>-1.149930</td>\n",
              "      <td>-0.049597</td>\n",
              "    </tr>\n",
              "    <tr>\n",
              "      <th>1</th>\n",
              "      <td>-1.322844</td>\n",
              "      <td>1.043185</td>\n",
              "      <td>-0.607019</td>\n",
              "      <td>2.045890</td>\n",
              "      <td>1.357143</td>\n",
              "      <td>0.861439</td>\n",
              "      <td>1.669961</td>\n",
              "      <td>2.332238</td>\n",
              "      <td>0.327041</td>\n",
              "      <td>-0.990381</td>\n",
              "      <td>-0.092512</td>\n",
              "    </tr>\n",
              "    <tr>\n",
              "      <th>2</th>\n",
              "      <td>-1.332827</td>\n",
              "      <td>1.038503</td>\n",
              "      <td>1.856182</td>\n",
              "      <td>-0.535746</td>\n",
              "      <td>-0.827024</td>\n",
              "      <td>-0.820777</td>\n",
              "      <td>-0.843637</td>\n",
              "      <td>1.782699</td>\n",
              "      <td>1.155620</td>\n",
              "      <td>-1.445865</td>\n",
              "      <td>-0.025843</td>\n",
              "    </tr>\n",
              "    <tr>\n",
              "      <th>3</th>\n",
              "      <td>-1.337818</td>\n",
              "      <td>1.038503</td>\n",
              "      <td>1.856182</td>\n",
              "      <td>-0.624215</td>\n",
              "      <td>-0.719723</td>\n",
              "      <td>-0.766028</td>\n",
              "      <td>-0.733781</td>\n",
              "      <td>0.932968</td>\n",
              "      <td>0.156966</td>\n",
              "      <td>-0.493627</td>\n",
              "      <td>-0.050329</td>\n",
              "    </tr>\n",
              "    <tr>\n",
              "      <th>4</th>\n",
              "      <td>-1.337818</td>\n",
              "      <td>1.038503</td>\n",
              "      <td>1.856182</td>\n",
              "      <td>-0.462404</td>\n",
              "      <td>-0.612423</td>\n",
              "      <td>-0.759847</td>\n",
              "      <td>-0.629157</td>\n",
              "      <td>-0.012881</td>\n",
              "      <td>0.344711</td>\n",
              "      <td>-0.707889</td>\n",
              "      <td>-0.085616</td>\n",
              "    </tr>\n",
              "  </tbody>\n",
              "</table>\n",
              "</div>"
            ],
            "text/plain": [
              "   longitude  latitude  housing_median_age  total_rooms  total_bedrooms  \\\n",
              "0  -1.327835  1.052548            0.982143    -0.804819       -0.972476   \n",
              "1  -1.322844  1.043185           -0.607019     2.045890        1.357143   \n",
              "2  -1.332827  1.038503            1.856182    -0.535746       -0.827024   \n",
              "3  -1.337818  1.038503            1.856182    -0.624215       -0.719723   \n",
              "4  -1.337818  1.038503            1.856182    -0.462404       -0.612423   \n",
              "\n",
              "   population  households  median_income  rooms_per_household  \\\n",
              "0   -0.974429   -0.977033       2.344766             0.628559   \n",
              "1    0.861439    1.669961       2.332238             0.327041   \n",
              "2   -0.820777   -0.843637       1.782699             1.155620   \n",
              "3   -0.766028   -0.733781       0.932968             0.156966   \n",
              "4   -0.759847   -0.629157      -0.012881             0.344711   \n",
              "\n",
              "   bedrooms_per_room  population_per_household  \n",
              "0          -1.149930                 -0.049597  \n",
              "1          -0.990381                 -0.092512  \n",
              "2          -1.445865                 -0.025843  \n",
              "3          -0.493627                 -0.050329  \n",
              "4          -0.707889                 -0.085616  "
            ]
          },
          "metadata": {
            "tags": []
          },
          "execution_count": 53
        }
      ]
    },
    {
      "cell_type": "markdown",
      "metadata": {
        "id": "Rmc20tHrhaiJ"
      },
      "source": [
        "After we fill in the missing value with the median of the value, we can do the feature scaling\n",
        "for independent variables, we can do the Standard scaling\n",
        "for category variable, we can do the onehot encoding but if it got too many category, we need to perform robust encoding instead, lets see how many categories we got"
      ]
    },
    {
      "cell_type": "code",
      "metadata": {
        "id": "jCPOVPCdhaiL",
        "outputId": "57421546-20b8-4ddb-e2b6-8044d82aa4ca"
      },
      "source": [
        "cat['ocean_proximity'].unique()"
      ],
      "execution_count": null,
      "outputs": [
        {
          "output_type": "execute_result",
          "data": {
            "text/plain": [
              "array(['NEAR BAY', '<1H OCEAN', 'INLAND', 'NEAR OCEAN', 'ISLAND'],\n",
              "      dtype=object)"
            ]
          },
          "metadata": {
            "tags": []
          },
          "execution_count": 56
        }
      ]
    },
    {
      "cell_type": "code",
      "metadata": {
        "id": "gii1aZSkhaiN",
        "outputId": "e2f285ee-435c-4c7d-c85e-42cfd93cbe10"
      },
      "source": [
        "cat.head()"
      ],
      "execution_count": null,
      "outputs": [
        {
          "output_type": "execute_result",
          "data": {
            "text/html": [
              "<div>\n",
              "<style scoped>\n",
              "    .dataframe tbody tr th:only-of-type {\n",
              "        vertical-align: middle;\n",
              "    }\n",
              "\n",
              "    .dataframe tbody tr th {\n",
              "        vertical-align: top;\n",
              "    }\n",
              "\n",
              "    .dataframe thead th {\n",
              "        text-align: right;\n",
              "    }\n",
              "</style>\n",
              "<table border=\"1\" class=\"dataframe\">\n",
              "  <thead>\n",
              "    <tr style=\"text-align: right;\">\n",
              "      <th></th>\n",
              "      <th>ocean_proximity</th>\n",
              "    </tr>\n",
              "  </thead>\n",
              "  <tbody>\n",
              "    <tr>\n",
              "      <th>0</th>\n",
              "      <td>NEAR BAY</td>\n",
              "    </tr>\n",
              "    <tr>\n",
              "      <th>1</th>\n",
              "      <td>NEAR BAY</td>\n",
              "    </tr>\n",
              "    <tr>\n",
              "      <th>2</th>\n",
              "      <td>NEAR BAY</td>\n",
              "    </tr>\n",
              "    <tr>\n",
              "      <th>3</th>\n",
              "      <td>NEAR BAY</td>\n",
              "    </tr>\n",
              "    <tr>\n",
              "      <th>4</th>\n",
              "      <td>NEAR BAY</td>\n",
              "    </tr>\n",
              "  </tbody>\n",
              "</table>\n",
              "</div>"
            ],
            "text/plain": [
              "  ocean_proximity\n",
              "0        NEAR BAY\n",
              "1        NEAR BAY\n",
              "2        NEAR BAY\n",
              "3        NEAR BAY\n",
              "4        NEAR BAY"
            ]
          },
          "metadata": {
            "tags": []
          },
          "execution_count": 57
        }
      ]
    },
    {
      "cell_type": "code",
      "metadata": {
        "id": "pCo66EhShaiQ",
        "outputId": "0a1919c0-7c5d-4999-8d74-d52661b0a934"
      },
      "source": [
        "OHE=OneHotEncoder(sparse=False)\n",
        "cat_feature=OHE.fit_transform(cat)\n",
        "cat_feature"
      ],
      "execution_count": null,
      "outputs": [
        {
          "output_type": "execute_result",
          "data": {
            "text/plain": [
              "array([[0., 0., 0., 1., 0.],\n",
              "       [0., 0., 0., 1., 0.],\n",
              "       [0., 0., 0., 1., 0.],\n",
              "       ...,\n",
              "       [0., 1., 0., 0., 0.],\n",
              "       [0., 1., 0., 0., 0.],\n",
              "       [0., 1., 0., 0., 0.]])"
            ]
          },
          "metadata": {
            "tags": []
          },
          "execution_count": 60
        }
      ]
    },
    {
      "cell_type": "code",
      "metadata": {
        "id": "UpHxPIPjhaiS",
        "outputId": "60ca5550-4a84-4aa1-8a11-5a375ac96b1a"
      },
      "source": [
        "# showing the categories\n",
        "OHE.categories_"
      ],
      "execution_count": null,
      "outputs": [
        {
          "output_type": "execute_result",
          "data": {
            "text/plain": [
              "[array(['<1H OCEAN', 'INLAND', 'ISLAND', 'NEAR BAY', 'NEAR OCEAN'],\n",
              "       dtype=object)]"
            ]
          },
          "metadata": {
            "tags": []
          },
          "execution_count": 61
        }
      ]
    },
    {
      "cell_type": "code",
      "metadata": {
        "id": "eHjXtnuphaiV",
        "outputId": "d78ee824-63dd-4f79-cd7e-f04fb80a72eb"
      },
      "source": [
        "cat_df=pd.DataFrame(cat_feature,columns=OHE.categories_)\n",
        "cat_df.head()"
      ],
      "execution_count": null,
      "outputs": [
        {
          "output_type": "execute_result",
          "data": {
            "text/html": [
              "<div>\n",
              "<style scoped>\n",
              "    .dataframe tbody tr th:only-of-type {\n",
              "        vertical-align: middle;\n",
              "    }\n",
              "\n",
              "    .dataframe tbody tr th {\n",
              "        vertical-align: top;\n",
              "    }\n",
              "\n",
              "    .dataframe thead tr th {\n",
              "        text-align: left;\n",
              "    }\n",
              "</style>\n",
              "<table border=\"1\" class=\"dataframe\">\n",
              "  <thead>\n",
              "    <tr>\n",
              "      <th></th>\n",
              "      <th>&lt;1H OCEAN</th>\n",
              "      <th>INLAND</th>\n",
              "      <th>ISLAND</th>\n",
              "      <th>NEAR BAY</th>\n",
              "      <th>NEAR OCEAN</th>\n",
              "    </tr>\n",
              "  </thead>\n",
              "  <tbody>\n",
              "    <tr>\n",
              "      <th>0</th>\n",
              "      <td>0.0</td>\n",
              "      <td>0.0</td>\n",
              "      <td>0.0</td>\n",
              "      <td>1.0</td>\n",
              "      <td>0.0</td>\n",
              "    </tr>\n",
              "    <tr>\n",
              "      <th>1</th>\n",
              "      <td>0.0</td>\n",
              "      <td>0.0</td>\n",
              "      <td>0.0</td>\n",
              "      <td>1.0</td>\n",
              "      <td>0.0</td>\n",
              "    </tr>\n",
              "    <tr>\n",
              "      <th>2</th>\n",
              "      <td>0.0</td>\n",
              "      <td>0.0</td>\n",
              "      <td>0.0</td>\n",
              "      <td>1.0</td>\n",
              "      <td>0.0</td>\n",
              "    </tr>\n",
              "    <tr>\n",
              "      <th>3</th>\n",
              "      <td>0.0</td>\n",
              "      <td>0.0</td>\n",
              "      <td>0.0</td>\n",
              "      <td>1.0</td>\n",
              "      <td>0.0</td>\n",
              "    </tr>\n",
              "    <tr>\n",
              "      <th>4</th>\n",
              "      <td>0.0</td>\n",
              "      <td>0.0</td>\n",
              "      <td>0.0</td>\n",
              "      <td>1.0</td>\n",
              "      <td>0.0</td>\n",
              "    </tr>\n",
              "  </tbody>\n",
              "</table>\n",
              "</div>"
            ],
            "text/plain": [
              "  <1H OCEAN INLAND ISLAND NEAR BAY NEAR OCEAN\n",
              "0       0.0    0.0    0.0      1.0        0.0\n",
              "1       0.0    0.0    0.0      1.0        0.0\n",
              "2       0.0    0.0    0.0      1.0        0.0\n",
              "3       0.0    0.0    0.0      1.0        0.0\n",
              "4       0.0    0.0    0.0      1.0        0.0"
            ]
          },
          "metadata": {
            "tags": []
          },
          "execution_count": 62
        }
      ]
    },
    {
      "cell_type": "code",
      "metadata": {
        "id": "BT0Y2PUWhaiW",
        "outputId": "ee4af6d9-c58a-4ab3-8943-20256d4135e0"
      },
      "source": [
        "X=pd.concat([num_df,cat_df],axis=1)\n",
        "X.head()"
      ],
      "execution_count": null,
      "outputs": [
        {
          "output_type": "execute_result",
          "data": {
            "text/html": [
              "<div>\n",
              "<style scoped>\n",
              "    .dataframe tbody tr th:only-of-type {\n",
              "        vertical-align: middle;\n",
              "    }\n",
              "\n",
              "    .dataframe tbody tr th {\n",
              "        vertical-align: top;\n",
              "    }\n",
              "\n",
              "    .dataframe thead th {\n",
              "        text-align: right;\n",
              "    }\n",
              "</style>\n",
              "<table border=\"1\" class=\"dataframe\">\n",
              "  <thead>\n",
              "    <tr style=\"text-align: right;\">\n",
              "      <th></th>\n",
              "      <th>longitude</th>\n",
              "      <th>latitude</th>\n",
              "      <th>housing_median_age</th>\n",
              "      <th>total_rooms</th>\n",
              "      <th>total_bedrooms</th>\n",
              "      <th>population</th>\n",
              "      <th>households</th>\n",
              "      <th>median_income</th>\n",
              "      <th>rooms_per_household</th>\n",
              "      <th>bedrooms_per_room</th>\n",
              "      <th>population_per_household</th>\n",
              "      <th>(&lt;1H OCEAN,)</th>\n",
              "      <th>(INLAND,)</th>\n",
              "      <th>(ISLAND,)</th>\n",
              "      <th>(NEAR BAY,)</th>\n",
              "      <th>(NEAR OCEAN,)</th>\n",
              "    </tr>\n",
              "  </thead>\n",
              "  <tbody>\n",
              "    <tr>\n",
              "      <th>0</th>\n",
              "      <td>-1.327835</td>\n",
              "      <td>1.052548</td>\n",
              "      <td>0.982143</td>\n",
              "      <td>-0.804819</td>\n",
              "      <td>-0.972476</td>\n",
              "      <td>-0.974429</td>\n",
              "      <td>-0.977033</td>\n",
              "      <td>2.344766</td>\n",
              "      <td>0.628559</td>\n",
              "      <td>-1.149930</td>\n",
              "      <td>-0.049597</td>\n",
              "      <td>0.0</td>\n",
              "      <td>0.0</td>\n",
              "      <td>0.0</td>\n",
              "      <td>1.0</td>\n",
              "      <td>0.0</td>\n",
              "    </tr>\n",
              "    <tr>\n",
              "      <th>1</th>\n",
              "      <td>-1.322844</td>\n",
              "      <td>1.043185</td>\n",
              "      <td>-0.607019</td>\n",
              "      <td>2.045890</td>\n",
              "      <td>1.357143</td>\n",
              "      <td>0.861439</td>\n",
              "      <td>1.669961</td>\n",
              "      <td>2.332238</td>\n",
              "      <td>0.327041</td>\n",
              "      <td>-0.990381</td>\n",
              "      <td>-0.092512</td>\n",
              "      <td>0.0</td>\n",
              "      <td>0.0</td>\n",
              "      <td>0.0</td>\n",
              "      <td>1.0</td>\n",
              "      <td>0.0</td>\n",
              "    </tr>\n",
              "    <tr>\n",
              "      <th>2</th>\n",
              "      <td>-1.332827</td>\n",
              "      <td>1.038503</td>\n",
              "      <td>1.856182</td>\n",
              "      <td>-0.535746</td>\n",
              "      <td>-0.827024</td>\n",
              "      <td>-0.820777</td>\n",
              "      <td>-0.843637</td>\n",
              "      <td>1.782699</td>\n",
              "      <td>1.155620</td>\n",
              "      <td>-1.445865</td>\n",
              "      <td>-0.025843</td>\n",
              "      <td>0.0</td>\n",
              "      <td>0.0</td>\n",
              "      <td>0.0</td>\n",
              "      <td>1.0</td>\n",
              "      <td>0.0</td>\n",
              "    </tr>\n",
              "    <tr>\n",
              "      <th>3</th>\n",
              "      <td>-1.337818</td>\n",
              "      <td>1.038503</td>\n",
              "      <td>1.856182</td>\n",
              "      <td>-0.624215</td>\n",
              "      <td>-0.719723</td>\n",
              "      <td>-0.766028</td>\n",
              "      <td>-0.733781</td>\n",
              "      <td>0.932968</td>\n",
              "      <td>0.156966</td>\n",
              "      <td>-0.493627</td>\n",
              "      <td>-0.050329</td>\n",
              "      <td>0.0</td>\n",
              "      <td>0.0</td>\n",
              "      <td>0.0</td>\n",
              "      <td>1.0</td>\n",
              "      <td>0.0</td>\n",
              "    </tr>\n",
              "    <tr>\n",
              "      <th>4</th>\n",
              "      <td>-1.337818</td>\n",
              "      <td>1.038503</td>\n",
              "      <td>1.856182</td>\n",
              "      <td>-0.462404</td>\n",
              "      <td>-0.612423</td>\n",
              "      <td>-0.759847</td>\n",
              "      <td>-0.629157</td>\n",
              "      <td>-0.012881</td>\n",
              "      <td>0.344711</td>\n",
              "      <td>-0.707889</td>\n",
              "      <td>-0.085616</td>\n",
              "      <td>0.0</td>\n",
              "      <td>0.0</td>\n",
              "      <td>0.0</td>\n",
              "      <td>1.0</td>\n",
              "      <td>0.0</td>\n",
              "    </tr>\n",
              "  </tbody>\n",
              "</table>\n",
              "</div>"
            ],
            "text/plain": [
              "   longitude  latitude  housing_median_age  total_rooms  total_bedrooms  \\\n",
              "0  -1.327835  1.052548            0.982143    -0.804819       -0.972476   \n",
              "1  -1.322844  1.043185           -0.607019     2.045890        1.357143   \n",
              "2  -1.332827  1.038503            1.856182    -0.535746       -0.827024   \n",
              "3  -1.337818  1.038503            1.856182    -0.624215       -0.719723   \n",
              "4  -1.337818  1.038503            1.856182    -0.462404       -0.612423   \n",
              "\n",
              "   population  households  median_income  rooms_per_household  \\\n",
              "0   -0.974429   -0.977033       2.344766             0.628559   \n",
              "1    0.861439    1.669961       2.332238             0.327041   \n",
              "2   -0.820777   -0.843637       1.782699             1.155620   \n",
              "3   -0.766028   -0.733781       0.932968             0.156966   \n",
              "4   -0.759847   -0.629157      -0.012881             0.344711   \n",
              "\n",
              "   bedrooms_per_room  population_per_household  (<1H OCEAN,)  (INLAND,)  \\\n",
              "0          -1.149930                 -0.049597           0.0        0.0   \n",
              "1          -0.990381                 -0.092512           0.0        0.0   \n",
              "2          -1.445865                 -0.025843           0.0        0.0   \n",
              "3          -0.493627                 -0.050329           0.0        0.0   \n",
              "4          -0.707889                 -0.085616           0.0        0.0   \n",
              "\n",
              "   (ISLAND,)  (NEAR BAY,)  (NEAR OCEAN,)  \n",
              "0        0.0          1.0            0.0  \n",
              "1        0.0          1.0            0.0  \n",
              "2        0.0          1.0            0.0  \n",
              "3        0.0          1.0            0.0  \n",
              "4        0.0          1.0            0.0  "
            ]
          },
          "metadata": {
            "tags": []
          },
          "execution_count": 63
        }
      ]
    },
    {
      "cell_type": "code",
      "metadata": {
        "id": "LxWoGlDWhaiY",
        "outputId": "1e862f8e-b839-4fb0-f8dc-fd666a4608a1"
      },
      "source": [
        "label.head()"
      ],
      "execution_count": null,
      "outputs": [
        {
          "output_type": "execute_result",
          "data": {
            "text/html": [
              "<div>\n",
              "<style scoped>\n",
              "    .dataframe tbody tr th:only-of-type {\n",
              "        vertical-align: middle;\n",
              "    }\n",
              "\n",
              "    .dataframe tbody tr th {\n",
              "        vertical-align: top;\n",
              "    }\n",
              "\n",
              "    .dataframe thead th {\n",
              "        text-align: right;\n",
              "    }\n",
              "</style>\n",
              "<table border=\"1\" class=\"dataframe\">\n",
              "  <thead>\n",
              "    <tr style=\"text-align: right;\">\n",
              "      <th></th>\n",
              "      <th>median_house_value</th>\n",
              "    </tr>\n",
              "  </thead>\n",
              "  <tbody>\n",
              "    <tr>\n",
              "      <th>0</th>\n",
              "      <td>452600.0</td>\n",
              "    </tr>\n",
              "    <tr>\n",
              "      <th>1</th>\n",
              "      <td>358500.0</td>\n",
              "    </tr>\n",
              "    <tr>\n",
              "      <th>2</th>\n",
              "      <td>352100.0</td>\n",
              "    </tr>\n",
              "    <tr>\n",
              "      <th>3</th>\n",
              "      <td>341300.0</td>\n",
              "    </tr>\n",
              "    <tr>\n",
              "      <th>4</th>\n",
              "      <td>342200.0</td>\n",
              "    </tr>\n",
              "  </tbody>\n",
              "</table>\n",
              "</div>"
            ],
            "text/plain": [
              "   median_house_value\n",
              "0            452600.0\n",
              "1            358500.0\n",
              "2            352100.0\n",
              "3            341300.0\n",
              "4            342200.0"
            ]
          },
          "metadata": {
            "tags": []
          },
          "execution_count": 64
        }
      ]
    },
    {
      "cell_type": "code",
      "metadata": {
        "id": "_FHwJy9ShaiZ"
      },
      "source": [
        "x_train,x_test,y_train,y_test=train_test_split(X.values,label.values,test_size=0.2,random_state=42)"
      ],
      "execution_count": null,
      "outputs": []
    },
    {
      "cell_type": "code",
      "metadata": {
        "id": "hVEwR19lhaia",
        "outputId": "d833512f-c472-4898-d1de-ed30c47ece3c"
      },
      "source": [
        "model.predict(x_test.iloc[0].ravel().reshape(1,-1))"
      ],
      "execution_count": null,
      "outputs": [
        {
          "output_type": "execute_result",
          "data": {
            "text/plain": [
              "array([178785.10865057])"
            ]
          },
          "metadata": {
            "tags": []
          },
          "execution_count": 93
        }
      ]
    },
    {
      "cell_type": "code",
      "metadata": {
        "id": "_m5BftSihaic"
      },
      "source": [
        "from sklearn.svm import SVR\n",
        "from sklearn.model_selection import GridSearchCV"
      ],
      "execution_count": null,
      "outputs": []
    },
    {
      "cell_type": "markdown",
      "metadata": {
        "id": "-5C2aJ9Rhaid"
      },
      "source": [
        "C- It is a hypermeter in SVM to control error. High C mean it may get higher error and low C mean it can get lower error\n",
        "\n",
        "But we need to bear in mind is if the C set in very low level, it may cause overfitting of the model.\n",
        "\n",
        "Gamma is a hypermeter which is set before the training model and used to give curvature weight of the decision boundary\n",
        "\n",
        "*** If we use kernel = 'linear', we don't need gamma ***"
      ]
    },
    {
      "cell_type": "code",
      "metadata": {
        "id": "UhMPH3Qahaie",
        "outputId": "6469dd41-ae48-4050-bb66-e2b45c3008a0"
      },
      "source": [
        "model=SVR()\n",
        "parameter_tuning={'kernel':['linear','rbf'],'C':[0.01,0.1,1,10],'gamma':[0.01,0.1,1,10]}\n",
        "\n",
        "GridSearch=GridSearchCV(model,param_grid=parameter_tuning,scoring='neg_root_mean_squared_error',verbose=2)\n",
        "GridSearch.fit(x_train,y_train.ravel())"
      ],
      "execution_count": null,
      "outputs": [
        {
          "output_type": "stream",
          "text": [
            "Fitting 5 folds for each of 32 candidates, totalling 160 fits\n",
            "[CV] C=0.01, gamma=0.01, kernel=linear ...............................\n"
          ],
          "name": "stdout"
        },
        {
          "output_type": "stream",
          "text": [
            "[Parallel(n_jobs=1)]: Using backend SequentialBackend with 1 concurrent workers.\n"
          ],
          "name": "stderr"
        },
        {
          "output_type": "stream",
          "text": [
            "[CV] ................ C=0.01, gamma=0.01, kernel=linear, total= 1.4min\n",
            "[CV] C=0.01, gamma=0.01, kernel=linear ...............................\n"
          ],
          "name": "stdout"
        },
        {
          "output_type": "stream",
          "text": [
            "[Parallel(n_jobs=1)]: Done   1 out of   1 | elapsed:  1.4min remaining:    0.0s\n"
          ],
          "name": "stderr"
        },
        {
          "output_type": "stream",
          "text": [
            "[CV] ................ C=0.01, gamma=0.01, kernel=linear, total= 1.4min\n",
            "[CV] C=0.01, gamma=0.01, kernel=linear ...............................\n",
            "[CV] ................ C=0.01, gamma=0.01, kernel=linear, total=  50.4s\n",
            "[CV] C=0.01, gamma=0.01, kernel=linear ...............................\n",
            "[CV] ................ C=0.01, gamma=0.01, kernel=linear, total= 1.1min\n",
            "[CV] C=0.01, gamma=0.01, kernel=linear ...............................\n",
            "[CV] ................ C=0.01, gamma=0.01, kernel=linear, total= 1.1min\n",
            "[CV] C=0.01, gamma=0.01, kernel=rbf ..................................\n",
            "[CV] ................... C=0.01, gamma=0.01, kernel=rbf, total= 2.1min\n",
            "[CV] C=0.01, gamma=0.01, kernel=rbf ..................................\n",
            "[CV] ................... C=0.01, gamma=0.01, kernel=rbf, total=  49.8s\n",
            "[CV] C=0.01, gamma=0.01, kernel=rbf ..................................\n",
            "[CV] ................... C=0.01, gamma=0.01, kernel=rbf, total= 1.4min\n",
            "[CV] C=0.01, gamma=0.01, kernel=rbf ..................................\n",
            "[CV] ................... C=0.01, gamma=0.01, kernel=rbf, total= 1.7min\n",
            "[CV] C=0.01, gamma=0.01, kernel=rbf ..................................\n",
            "[CV] ................... C=0.01, gamma=0.01, kernel=rbf, total= 1.9min\n",
            "[CV] C=0.01, gamma=0.1, kernel=linear ................................\n",
            "[CV] ................. C=0.01, gamma=0.1, kernel=linear, total=  52.1s\n",
            "[CV] C=0.01, gamma=0.1, kernel=linear ................................\n",
            "[CV] ................. C=0.01, gamma=0.1, kernel=linear, total=  59.3s\n",
            "[CV] C=0.01, gamma=0.1, kernel=linear ................................\n",
            "[CV] ................. C=0.01, gamma=0.1, kernel=linear, total= 1.3min\n",
            "[CV] C=0.01, gamma=0.1, kernel=linear ................................\n",
            "[CV] ................. C=0.01, gamma=0.1, kernel=linear, total= 1.1min\n",
            "[CV] C=0.01, gamma=0.1, kernel=linear ................................\n",
            "[CV] ................. C=0.01, gamma=0.1, kernel=linear, total= 1.1min\n",
            "[CV] C=0.01, gamma=0.1, kernel=rbf ...................................\n",
            "[CV] .................... C=0.01, gamma=0.1, kernel=rbf, total= 1.7min\n",
            "[CV] C=0.01, gamma=0.1, kernel=rbf ...................................\n",
            "[CV] .................... C=0.01, gamma=0.1, kernel=rbf, total= 1.7min\n",
            "[CV] C=0.01, gamma=0.1, kernel=rbf ...................................\n",
            "[CV] .................... C=0.01, gamma=0.1, kernel=rbf, total= 1.4min\n",
            "[CV] C=0.01, gamma=0.1, kernel=rbf ...................................\n",
            "[CV] .................... C=0.01, gamma=0.1, kernel=rbf, total= 1.9min\n",
            "[CV] C=0.01, gamma=0.1, kernel=rbf ...................................\n",
            "[CV] .................... C=0.01, gamma=0.1, kernel=rbf, total=  52.4s\n",
            "[CV] C=0.01, gamma=1, kernel=linear ..................................\n",
            "[CV] ................... C=0.01, gamma=1, kernel=linear, total= 1.2min\n",
            "[CV] C=0.01, gamma=1, kernel=linear ..................................\n",
            "[CV] ................... C=0.01, gamma=1, kernel=linear, total= 1.4min\n",
            "[CV] C=0.01, gamma=1, kernel=linear ..................................\n",
            "[CV] ................... C=0.01, gamma=1, kernel=linear, total= 1.3min\n",
            "[CV] C=0.01, gamma=1, kernel=linear ..................................\n",
            "[CV] ................... C=0.01, gamma=1, kernel=linear, total=  56.1s\n",
            "[CV] C=0.01, gamma=1, kernel=linear ..................................\n",
            "[CV] ................... C=0.01, gamma=1, kernel=linear, total=  54.9s\n",
            "[CV] C=0.01, gamma=1, kernel=rbf .....................................\n",
            "[CV] ...................... C=0.01, gamma=1, kernel=rbf, total= 1.8min\n",
            "[CV] C=0.01, gamma=1, kernel=rbf .....................................\n",
            "[CV] ...................... C=0.01, gamma=1, kernel=rbf, total= 1.3min\n",
            "[CV] C=0.01, gamma=1, kernel=rbf .....................................\n",
            "[CV] ...................... C=0.01, gamma=1, kernel=rbf, total= 1.4min\n",
            "[CV] C=0.01, gamma=1, kernel=rbf .....................................\n",
            "[CV] ...................... C=0.01, gamma=1, kernel=rbf, total= 1.2min\n",
            "[CV] C=0.01, gamma=1, kernel=rbf .....................................\n",
            "[CV] ...................... C=0.01, gamma=1, kernel=rbf, total= 1.4min\n",
            "[CV] C=0.01, gamma=10, kernel=linear .................................\n",
            "[CV] .................. C=0.01, gamma=10, kernel=linear, total= 1.4min\n",
            "[CV] C=0.01, gamma=10, kernel=linear .................................\n",
            "[CV] .................. C=0.01, gamma=10, kernel=linear, total=  49.6s\n",
            "[CV] C=0.01, gamma=10, kernel=linear .................................\n",
            "[CV] .................. C=0.01, gamma=10, kernel=linear, total= 1.4min\n",
            "[CV] C=0.01, gamma=10, kernel=linear .................................\n",
            "[CV] .................. C=0.01, gamma=10, kernel=linear, total=  59.5s\n",
            "[CV] C=0.01, gamma=10, kernel=linear .................................\n",
            "[CV] .................. C=0.01, gamma=10, kernel=linear, total=  50.1s\n",
            "[CV] C=0.01, gamma=10, kernel=rbf ....................................\n",
            "[CV] ..................... C=0.01, gamma=10, kernel=rbf, total= 1.7min\n",
            "[CV] C=0.01, gamma=10, kernel=rbf ....................................\n",
            "[CV] ..................... C=0.01, gamma=10, kernel=rbf, total= 2.2min\n",
            "[CV] C=0.01, gamma=10, kernel=rbf ....................................\n",
            "[CV] ..................... C=0.01, gamma=10, kernel=rbf, total= 1.8min\n",
            "[CV] C=0.01, gamma=10, kernel=rbf ....................................\n",
            "[CV] ..................... C=0.01, gamma=10, kernel=rbf, total= 3.4min\n",
            "[CV] C=0.01, gamma=10, kernel=rbf ....................................\n",
            "[CV] ..................... C=0.01, gamma=10, kernel=rbf, total= 2.2min\n",
            "[CV] C=0.1, gamma=0.01, kernel=linear ................................\n",
            "[CV] ................. C=0.1, gamma=0.01, kernel=linear, total= 1.2min\n",
            "[CV] C=0.1, gamma=0.01, kernel=linear ................................\n",
            "[CV] ................. C=0.1, gamma=0.01, kernel=linear, total= 1.3min\n",
            "[CV] C=0.1, gamma=0.01, kernel=linear ................................\n",
            "[CV] ................. C=0.1, gamma=0.01, kernel=linear, total=  50.7s\n",
            "[CV] C=0.1, gamma=0.01, kernel=linear ................................\n",
            "[CV] ................. C=0.1, gamma=0.01, kernel=linear, total=  45.1s\n",
            "[CV] C=0.1, gamma=0.01, kernel=linear ................................\n",
            "[CV] ................. C=0.1, gamma=0.01, kernel=linear, total= 1.0min\n",
            "[CV] C=0.1, gamma=0.01, kernel=rbf ...................................\n",
            "[CV] .................... C=0.1, gamma=0.01, kernel=rbf, total=  53.0s\n",
            "[CV] C=0.1, gamma=0.01, kernel=rbf ...................................\n",
            "[CV] .................... C=0.1, gamma=0.01, kernel=rbf, total= 1.4min\n",
            "[CV] C=0.1, gamma=0.01, kernel=rbf ...................................\n",
            "[CV] .................... C=0.1, gamma=0.01, kernel=rbf, total= 1.2min\n",
            "[CV] C=0.1, gamma=0.01, kernel=rbf ...................................\n",
            "[CV] .................... C=0.1, gamma=0.01, kernel=rbf, total= 1.1min\n",
            "[CV] C=0.1, gamma=0.01, kernel=rbf ...................................\n",
            "[CV] .................... C=0.1, gamma=0.01, kernel=rbf, total= 1.5min\n",
            "[CV] C=0.1, gamma=0.1, kernel=linear .................................\n",
            "[CV] .................. C=0.1, gamma=0.1, kernel=linear, total=  57.9s\n",
            "[CV] C=0.1, gamma=0.1, kernel=linear .................................\n",
            "[CV] .................. C=0.1, gamma=0.1, kernel=linear, total=  51.2s\n",
            "[CV] C=0.1, gamma=0.1, kernel=linear .................................\n",
            "[CV] .................. C=0.1, gamma=0.1, kernel=linear, total=  46.1s\n",
            "[CV] C=0.1, gamma=0.1, kernel=linear .................................\n",
            "[CV] .................. C=0.1, gamma=0.1, kernel=linear, total= 1.0min\n",
            "[CV] C=0.1, gamma=0.1, kernel=linear .................................\n",
            "[CV] .................. C=0.1, gamma=0.1, kernel=linear, total= 1.2min\n",
            "[CV] C=0.1, gamma=0.1, kernel=rbf ....................................\n",
            "[CV] ..................... C=0.1, gamma=0.1, kernel=rbf, total= 1.7min\n",
            "[CV] C=0.1, gamma=0.1, kernel=rbf ....................................\n",
            "[CV] ..................... C=0.1, gamma=0.1, kernel=rbf, total= 1.5min\n",
            "[CV] C=0.1, gamma=0.1, kernel=rbf ....................................\n",
            "[CV] ..................... C=0.1, gamma=0.1, kernel=rbf, total= 1.6min\n",
            "[CV] C=0.1, gamma=0.1, kernel=rbf ....................................\n",
            "[CV] ..................... C=0.1, gamma=0.1, kernel=rbf, total= 1.8min\n",
            "[CV] C=0.1, gamma=0.1, kernel=rbf ....................................\n"
          ],
          "name": "stdout"
        },
        {
          "output_type": "stream",
          "text": [
            "[CV] ..................... C=0.1, gamma=0.1, kernel=rbf, total= 1.5min\n",
            "[CV] C=0.1, gamma=1, kernel=linear ...................................\n",
            "[CV] .................... C=0.1, gamma=1, kernel=linear, total= 1.1min\n",
            "[CV] C=0.1, gamma=1, kernel=linear ...................................\n",
            "[CV] .................... C=0.1, gamma=1, kernel=linear, total= 1.2min\n",
            "[CV] C=0.1, gamma=1, kernel=linear ...................................\n",
            "[CV] .................... C=0.1, gamma=1, kernel=linear, total= 1.3min\n",
            "[CV] C=0.1, gamma=1, kernel=linear ...................................\n",
            "[CV] .................... C=0.1, gamma=1, kernel=linear, total=  57.3s\n",
            "[CV] C=0.1, gamma=1, kernel=linear ...................................\n",
            "[CV] .................... C=0.1, gamma=1, kernel=linear, total= 1.4min\n",
            "[CV] C=0.1, gamma=1, kernel=rbf ......................................\n",
            "[CV] ....................... C=0.1, gamma=1, kernel=rbf, total= 1.6min\n",
            "[CV] C=0.1, gamma=1, kernel=rbf ......................................\n",
            "[CV] ....................... C=0.1, gamma=1, kernel=rbf, total= 1.6min\n",
            "[CV] C=0.1, gamma=1, kernel=rbf ......................................\n",
            "[CV] ....................... C=0.1, gamma=1, kernel=rbf, total= 1.5min\n",
            "[CV] C=0.1, gamma=1, kernel=rbf ......................................\n",
            "[CV] ....................... C=0.1, gamma=1, kernel=rbf, total= 1.8min\n",
            "[CV] C=0.1, gamma=1, kernel=rbf ......................................\n",
            "[CV] ....................... C=0.1, gamma=1, kernel=rbf, total= 1.1min\n",
            "[CV] C=0.1, gamma=10, kernel=linear ..................................\n",
            "[CV] ................... C=0.1, gamma=10, kernel=linear, total= 1.1min\n",
            "[CV] C=0.1, gamma=10, kernel=linear ..................................\n",
            "[CV] ................... C=0.1, gamma=10, kernel=linear, total= 1.1min\n",
            "[CV] C=0.1, gamma=10, kernel=linear ..................................\n",
            "[CV] ................... C=0.1, gamma=10, kernel=linear, total=  57.8s\n",
            "[CV] C=0.1, gamma=10, kernel=linear ..................................\n",
            "[CV] ................... C=0.1, gamma=10, kernel=linear, total= 1.1min\n",
            "[CV] C=0.1, gamma=10, kernel=linear ..................................\n",
            "[CV] ................... C=0.1, gamma=10, kernel=linear, total= 1.1min\n",
            "[CV] C=0.1, gamma=10, kernel=rbf .....................................\n",
            "[CV] ...................... C=0.1, gamma=10, kernel=rbf, total= 1.9min\n",
            "[CV] C=0.1, gamma=10, kernel=rbf .....................................\n",
            "[CV] ...................... C=0.1, gamma=10, kernel=rbf, total= 2.2min\n",
            "[CV] C=0.1, gamma=10, kernel=rbf .....................................\n",
            "[CV] ...................... C=0.1, gamma=10, kernel=rbf, total= 2.8min\n",
            "[CV] C=0.1, gamma=10, kernel=rbf .....................................\n",
            "[CV] ...................... C=0.1, gamma=10, kernel=rbf, total= 1.5min\n",
            "[CV] C=0.1, gamma=10, kernel=rbf .....................................\n",
            "[CV] ...................... C=0.1, gamma=10, kernel=rbf, total= 1.5min\n",
            "[CV] C=1, gamma=0.01, kernel=linear ..................................\n",
            "[CV] ................... C=1, gamma=0.01, kernel=linear, total= 1.2min\n",
            "[CV] C=1, gamma=0.01, kernel=linear ..................................\n",
            "[CV] ................... C=1, gamma=0.01, kernel=linear, total=  48.5s\n",
            "[CV] C=1, gamma=0.01, kernel=linear ..................................\n",
            "[CV] ................... C=1, gamma=0.01, kernel=linear, total= 1.4min\n",
            "[CV] C=1, gamma=0.01, kernel=linear ..................................\n",
            "[CV] ................... C=1, gamma=0.01, kernel=linear, total= 1.0min\n",
            "[CV] C=1, gamma=0.01, kernel=linear ..................................\n",
            "[CV] ................... C=1, gamma=0.01, kernel=linear, total= 1.1min\n",
            "[CV] C=1, gamma=0.01, kernel=rbf .....................................\n",
            "[CV] ...................... C=1, gamma=0.01, kernel=rbf, total= 1.0min\n",
            "[CV] C=1, gamma=0.01, kernel=rbf .....................................\n",
            "[CV] ...................... C=1, gamma=0.01, kernel=rbf, total= 1.4min\n",
            "[CV] C=1, gamma=0.01, kernel=rbf .....................................\n",
            "[CV] ...................... C=1, gamma=0.01, kernel=rbf, total= 1.8min\n",
            "[CV] C=1, gamma=0.01, kernel=rbf .....................................\n",
            "[CV] ...................... C=1, gamma=0.01, kernel=rbf, total= 1.2min\n",
            "[CV] C=1, gamma=0.01, kernel=rbf .....................................\n",
            "[CV] ...................... C=1, gamma=0.01, kernel=rbf, total= 1.7min\n",
            "[CV] C=1, gamma=0.1, kernel=linear ...................................\n",
            "[CV] .................... C=1, gamma=0.1, kernel=linear, total=  57.9s\n",
            "[CV] C=1, gamma=0.1, kernel=linear ...................................\n",
            "[CV] .................... C=1, gamma=0.1, kernel=linear, total= 1.2min\n",
            "[CV] C=1, gamma=0.1, kernel=linear ...................................\n",
            "[CV] .................... C=1, gamma=0.1, kernel=linear, total= 1.2min\n",
            "[CV] C=1, gamma=0.1, kernel=linear ...................................\n",
            "[CV] .................... C=1, gamma=0.1, kernel=linear, total= 1.1min\n",
            "[CV] C=1, gamma=0.1, kernel=linear ...................................\n",
            "[CV] .................... C=1, gamma=0.1, kernel=linear, total= 1.1min\n",
            "[CV] C=1, gamma=0.1, kernel=rbf ......................................\n",
            "[CV] ....................... C=1, gamma=0.1, kernel=rbf, total= 1.3min\n",
            "[CV] C=1, gamma=0.1, kernel=rbf ......................................\n",
            "[CV] ....................... C=1, gamma=0.1, kernel=rbf, total= 1.0min\n",
            "[CV] C=1, gamma=0.1, kernel=rbf ......................................\n",
            "[CV] ....................... C=1, gamma=0.1, kernel=rbf, total= 1.1min\n",
            "[CV] C=1, gamma=0.1, kernel=rbf ......................................\n",
            "[CV] ....................... C=1, gamma=0.1, kernel=rbf, total= 1.9min\n",
            "[CV] C=1, gamma=0.1, kernel=rbf ......................................\n",
            "[CV] ....................... C=1, gamma=0.1, kernel=rbf, total= 2.0min\n",
            "[CV] C=1, gamma=1, kernel=linear .....................................\n",
            "[CV] ...................... C=1, gamma=1, kernel=linear, total= 1.2min\n",
            "[CV] C=1, gamma=1, kernel=linear .....................................\n",
            "[CV] ...................... C=1, gamma=1, kernel=linear, total= 1.2min\n",
            "[CV] C=1, gamma=1, kernel=linear .....................................\n",
            "[CV] ...................... C=1, gamma=1, kernel=linear, total=  47.1s\n",
            "[CV] C=1, gamma=1, kernel=linear .....................................\n",
            "[CV] ...................... C=1, gamma=1, kernel=linear, total= 1.1min\n",
            "[CV] C=1, gamma=1, kernel=linear .....................................\n",
            "[CV] ...................... C=1, gamma=1, kernel=linear, total= 1.2min\n",
            "[CV] C=1, gamma=1, kernel=rbf ........................................\n",
            "[CV] ......................... C=1, gamma=1, kernel=rbf, total= 1.5min\n",
            "[CV] C=1, gamma=1, kernel=rbf ........................................\n",
            "[CV] ......................... C=1, gamma=1, kernel=rbf, total= 1.4min\n",
            "[CV] C=1, gamma=1, kernel=rbf ........................................\n",
            "[CV] ......................... C=1, gamma=1, kernel=rbf, total= 1.1min\n",
            "[CV] C=1, gamma=1, kernel=rbf ........................................\n",
            "[CV] ......................... C=1, gamma=1, kernel=rbf, total= 1.0min\n",
            "[CV] C=1, gamma=1, kernel=rbf ........................................\n",
            "[CV] ......................... C=1, gamma=1, kernel=rbf, total= 1.3min\n",
            "[CV] C=1, gamma=10, kernel=linear ....................................\n",
            "[CV] ..................... C=1, gamma=10, kernel=linear, total=  43.2s\n",
            "[CV] C=1, gamma=10, kernel=linear ....................................\n",
            "[CV] ..................... C=1, gamma=10, kernel=linear, total= 1.1min\n",
            "[CV] C=1, gamma=10, kernel=linear ....................................\n",
            "[CV] ..................... C=1, gamma=10, kernel=linear, total=  34.8s\n",
            "[CV] C=1, gamma=10, kernel=linear ....................................\n",
            "[CV] ..................... C=1, gamma=10, kernel=linear, total= 1.3min\n",
            "[CV] C=1, gamma=10, kernel=linear ....................................\n",
            "[CV] ..................... C=1, gamma=10, kernel=linear, total= 1.4min\n",
            "[CV] C=1, gamma=10, kernel=rbf .......................................\n",
            "[CV] ........................ C=1, gamma=10, kernel=rbf, total= 2.1min\n",
            "[CV] C=1, gamma=10, kernel=rbf .......................................\n",
            "[CV] ........................ C=1, gamma=10, kernel=rbf, total= 1.7min\n",
            "[CV] C=1, gamma=10, kernel=rbf .......................................\n"
          ],
          "name": "stdout"
        },
        {
          "output_type": "stream",
          "text": [
            "[CV] ........................ C=1, gamma=10, kernel=rbf, total= 2.4min\n",
            "[CV] C=1, gamma=10, kernel=rbf .......................................\n",
            "[CV] ........................ C=1, gamma=10, kernel=rbf, total= 2.2min\n",
            "[CV] C=1, gamma=10, kernel=rbf .......................................\n",
            "[CV] ........................ C=1, gamma=10, kernel=rbf, total= 2.0min\n",
            "[CV] C=10, gamma=0.01, kernel=linear .................................\n",
            "[CV] .................. C=10, gamma=0.01, kernel=linear, total= 1.2min\n",
            "[CV] C=10, gamma=0.01, kernel=linear .................................\n",
            "[CV] .................. C=10, gamma=0.01, kernel=linear, total= 1.3min\n",
            "[CV] C=10, gamma=0.01, kernel=linear .................................\n",
            "[CV] .................. C=10, gamma=0.01, kernel=linear, total=  48.8s\n",
            "[CV] C=10, gamma=0.01, kernel=linear .................................\n",
            "[CV] .................. C=10, gamma=0.01, kernel=linear, total= 1.0min\n",
            "[CV] C=10, gamma=0.01, kernel=linear .................................\n",
            "[CV] .................. C=10, gamma=0.01, kernel=linear, total= 1.2min\n",
            "[CV] C=10, gamma=0.01, kernel=rbf ....................................\n",
            "[CV] ..................... C=10, gamma=0.01, kernel=rbf, total= 1.6min\n",
            "[CV] C=10, gamma=0.01, kernel=rbf ....................................\n",
            "[CV] ..................... C=10, gamma=0.01, kernel=rbf, total= 1.4min\n",
            "[CV] C=10, gamma=0.01, kernel=rbf ....................................\n",
            "[CV] ..................... C=10, gamma=0.01, kernel=rbf, total= 1.3min\n",
            "[CV] C=10, gamma=0.01, kernel=rbf ....................................\n",
            "[CV] ..................... C=10, gamma=0.01, kernel=rbf, total= 1.7min\n",
            "[CV] C=10, gamma=0.01, kernel=rbf ....................................\n",
            "[CV] ..................... C=10, gamma=0.01, kernel=rbf, total= 1.6min\n",
            "[CV] C=10, gamma=0.1, kernel=linear ..................................\n",
            "[CV] ................... C=10, gamma=0.1, kernel=linear, total=  52.0s\n",
            "[CV] C=10, gamma=0.1, kernel=linear ..................................\n",
            "[CV] ................... C=10, gamma=0.1, kernel=linear, total=  58.7s\n",
            "[CV] C=10, gamma=0.1, kernel=linear ..................................\n",
            "[CV] ................... C=10, gamma=0.1, kernel=linear, total=  57.8s\n",
            "[CV] C=10, gamma=0.1, kernel=linear ..................................\n",
            "[CV] ................... C=10, gamma=0.1, kernel=linear, total= 1.3min\n",
            "[CV] C=10, gamma=0.1, kernel=linear ..................................\n",
            "[CV] ................... C=10, gamma=0.1, kernel=linear, total= 1.2min\n",
            "[CV] C=10, gamma=0.1, kernel=rbf .....................................\n",
            "[CV] ...................... C=10, gamma=0.1, kernel=rbf, total= 1.7min\n",
            "[CV] C=10, gamma=0.1, kernel=rbf .....................................\n",
            "[CV] ...................... C=10, gamma=0.1, kernel=rbf, total= 1.9min\n",
            "[CV] C=10, gamma=0.1, kernel=rbf .....................................\n",
            "[CV] ...................... C=10, gamma=0.1, kernel=rbf, total= 1.4min\n",
            "[CV] C=10, gamma=0.1, kernel=rbf .....................................\n",
            "[CV] ...................... C=10, gamma=0.1, kernel=rbf, total= 1.9min\n",
            "[CV] C=10, gamma=0.1, kernel=rbf .....................................\n",
            "[CV] ...................... C=10, gamma=0.1, kernel=rbf, total= 1.0min\n",
            "[CV] C=10, gamma=1, kernel=linear ....................................\n",
            "[CV] ..................... C=10, gamma=1, kernel=linear, total= 1.1min\n",
            "[CV] C=10, gamma=1, kernel=linear ....................................\n",
            "[CV] ..................... C=10, gamma=1, kernel=linear, total= 1.2min\n",
            "[CV] C=10, gamma=1, kernel=linear ....................................\n",
            "[CV] ..................... C=10, gamma=1, kernel=linear, total= 1.3min\n",
            "[CV] C=10, gamma=1, kernel=linear ....................................\n",
            "[CV] ..................... C=10, gamma=1, kernel=linear, total=  54.1s\n",
            "[CV] C=10, gamma=1, kernel=linear ....................................\n",
            "[CV] ..................... C=10, gamma=1, kernel=linear, total=  46.6s\n",
            "[CV] C=10, gamma=1, kernel=rbf .......................................\n",
            "[CV] ........................ C=10, gamma=1, kernel=rbf, total= 1.4min\n",
            "[CV] C=10, gamma=1, kernel=rbf .......................................\n",
            "[CV] ........................ C=10, gamma=1, kernel=rbf, total= 1.7min\n",
            "[CV] C=10, gamma=1, kernel=rbf .......................................\n",
            "[CV] ........................ C=10, gamma=1, kernel=rbf, total= 1.2min\n",
            "[CV] C=10, gamma=1, kernel=rbf .......................................\n",
            "[CV] ........................ C=10, gamma=1, kernel=rbf, total= 1.3min\n",
            "[CV] C=10, gamma=1, kernel=rbf .......................................\n",
            "[CV] ........................ C=10, gamma=1, kernel=rbf, total=  55.0s\n",
            "[CV] C=10, gamma=10, kernel=linear ...................................\n",
            "[CV] .................... C=10, gamma=10, kernel=linear, total= 1.0min\n",
            "[CV] C=10, gamma=10, kernel=linear ...................................\n",
            "[CV] .................... C=10, gamma=10, kernel=linear, total= 1.0min\n",
            "[CV] C=10, gamma=10, kernel=linear ...................................\n",
            "[CV] .................... C=10, gamma=10, kernel=linear, total=  53.9s\n",
            "[CV] C=10, gamma=10, kernel=linear ...................................\n",
            "[CV] .................... C=10, gamma=10, kernel=linear, total=  58.9s\n",
            "[CV] C=10, gamma=10, kernel=linear ...................................\n",
            "[CV] .................... C=10, gamma=10, kernel=linear, total=  41.9s\n",
            "[CV] C=10, gamma=10, kernel=rbf ......................................\n",
            "[CV] ....................... C=10, gamma=10, kernel=rbf, total= 1.5min\n",
            "[CV] C=10, gamma=10, kernel=rbf ......................................\n",
            "[CV] ....................... C=10, gamma=10, kernel=rbf, total= 2.0min\n",
            "[CV] C=10, gamma=10, kernel=rbf ......................................\n",
            "[CV] ....................... C=10, gamma=10, kernel=rbf, total= 2.7min\n",
            "[CV] C=10, gamma=10, kernel=rbf ......................................\n",
            "[CV] ....................... C=10, gamma=10, kernel=rbf, total= 2.5min\n",
            "[CV] C=10, gamma=10, kernel=rbf ......................................\n",
            "[CV] ....................... C=10, gamma=10, kernel=rbf, total= 2.4min\n"
          ],
          "name": "stdout"
        },
        {
          "output_type": "stream",
          "text": [
            "[Parallel(n_jobs=1)]: Done 160 out of 160 | elapsed: 215.9min finished\n"
          ],
          "name": "stderr"
        },
        {
          "output_type": "execute_result",
          "data": {
            "text/plain": [
              "GridSearchCV(estimator=SVR(),\n",
              "             param_grid={'C': [0.01, 0.1, 1, 10], 'gamma': [0.01, 0.1, 1, 10],\n",
              "                         'kernel': ['linear', 'rbf']},\n",
              "             scoring='neg_root_mean_squared_error', verbose=2)"
            ]
          },
          "metadata": {
            "tags": []
          },
          "execution_count": 106
        }
      ]
    },
    {
      "cell_type": "code",
      "metadata": {
        "id": "uxPGHznLhaih"
      },
      "source": [
        "prediction=GridSearch.predict(x_test)"
      ],
      "execution_count": null,
      "outputs": []
    },
    {
      "cell_type": "code",
      "metadata": {
        "id": "CKc2jy0phaii",
        "outputId": "dbd2e8ed-3c4e-49a6-e1d0-68f7fe478bd4"
      },
      "source": [
        "GridSearch.best_estimator_"
      ],
      "execution_count": null,
      "outputs": [
        {
          "output_type": "execute_result",
          "data": {
            "text/plain": [
              "SVR(C=10, gamma=0.01, kernel='linear')"
            ]
          },
          "metadata": {
            "tags": []
          },
          "execution_count": 115
        }
      ]
    },
    {
      "cell_type": "code",
      "metadata": {
        "id": "jeOYJ1Lehaij",
        "outputId": "8fa11bda-8d00-4b25-ba8c-c00375ad024b"
      },
      "source": [
        "GridSearch.best_score_"
      ],
      "execution_count": null,
      "outputs": [
        {
          "output_type": "execute_result",
          "data": {
            "text/plain": [
              "-84238.69348689032"
            ]
          },
          "metadata": {
            "tags": []
          },
          "execution_count": 118
        }
      ]
    },
    {
      "cell_type": "code",
      "metadata": {
        "id": "iUj-LrMBhaik",
        "outputId": "1b49fabd-d453-4c8d-f0f1-238ec4bdbf96"
      },
      "source": [
        "cv_results = GridSearch.cv_results_\n",
        "for mean_score, params in zip(cv_results[\"mean_test_score\"], cv_results[\"params\"]):\n",
        "    # root mean square error with best estimators\n",
        "    print(np.sqrt(-mean_score), params)"
      ],
      "execution_count": null,
      "outputs": [
        {
          "output_type": "stream",
          "text": [
            "344.5337786369887 {'C': 0.01, 'gamma': 0.01, 'kernel': 'linear'}\n",
            "344.64784524883567 {'C': 0.01, 'gamma': 0.01, 'kernel': 'rbf'}\n",
            "344.5337786369887 {'C': 0.01, 'gamma': 0.1, 'kernel': 'linear'}\n",
            "344.6450709981776 {'C': 0.01, 'gamma': 0.1, 'kernel': 'rbf'}\n",
            "344.5337786369887 {'C': 0.01, 'gamma': 1, 'kernel': 'linear'}\n",
            "344.6491489296766 {'C': 0.01, 'gamma': 1, 'kernel': 'rbf'}\n",
            "344.5337786369887 {'C': 0.01, 'gamma': 10, 'kernel': 'linear'}\n",
            "344.6496702593959 {'C': 0.01, 'gamma': 10, 'kernel': 'rbf'}\n",
            "343.6139381392193 {'C': 0.1, 'gamma': 0.01, 'kernel': 'linear'}\n",
            "344.631255469056 {'C': 0.1, 'gamma': 0.01, 'kernel': 'rbf'}\n",
            "343.6139381392193 {'C': 0.1, 'gamma': 0.1, 'kernel': 'linear'}\n",
            "344.6034718079113 {'C': 0.1, 'gamma': 0.1, 'kernel': 'rbf'}\n",
            "343.6139381392193 {'C': 0.1, 'gamma': 1, 'kernel': 'linear'}\n",
            "344.6443031620075 {'C': 0.1, 'gamma': 1, 'kernel': 'rbf'}\n",
            "343.6139381392193 {'C': 0.1, 'gamma': 10, 'kernel': 'linear'}\n",
            "344.64959775702835 {'C': 0.1, 'gamma': 10, 'kernel': 'rbf'}\n",
            "334.98138196035916 {'C': 1, 'gamma': 0.01, 'kernel': 'linear'}\n",
            "344.46932476791096 {'C': 1, 'gamma': 0.01, 'kernel': 'rbf'}\n",
            "334.98138196035916 {'C': 1, 'gamma': 0.1, 'kernel': 'linear'}\n",
            "344.2192936489192 {'C': 1, 'gamma': 0.1, 'kernel': 'rbf'}\n",
            "334.98138196035916 {'C': 1, 'gamma': 1, 'kernel': 'linear'}\n",
            "344.5969786570125 {'C': 1, 'gamma': 1, 'kernel': 'rbf'}\n",
            "334.98138196035916 {'C': 1, 'gamma': 10, 'kernel': 'linear'}\n",
            "344.64882779276303 {'C': 1, 'gamma': 10, 'kernel': 'rbf'}\n",
            "290.23902819381533 {'C': 10, 'gamma': 0.01, 'kernel': 'linear'}\n",
            "343.02605463428273 {'C': 10, 'gamma': 0.01, 'kernel': 'rbf'}\n",
            "290.23902819381533 {'C': 10, 'gamma': 0.1, 'kernel': 'linear'}\n",
            "340.5770888233622 {'C': 10, 'gamma': 0.1, 'kernel': 'rbf'}\n",
            "290.23902819381533 {'C': 10, 'gamma': 1, 'kernel': 'linear'}\n",
            "344.1595941950713 {'C': 10, 'gamma': 1, 'kernel': 'rbf'}\n",
            "290.23902819381533 {'C': 10, 'gamma': 10, 'kernel': 'linear'}\n",
            "344.64147430852626 {'C': 10, 'gamma': 10, 'kernel': 'rbf'}\n"
          ],
          "name": "stdout"
        }
      ]
    },
    {
      "cell_type": "markdown",
      "metadata": {
        "id": "Xf2BVipChaim"
      },
      "source": [
        "2. Try to build a classifier for the MNIST dataset that achieves over 97% accuracy on the test set. Hint: the KNeighborsClassifier works quite well for this task; you just need to find good hyperparameter values (try a grid search on the weights and n_neighbors hyperparameters)."
      ]
    },
    {
      "cell_type": "code",
      "metadata": {
        "id": "9BCpsP_Hhain"
      },
      "source": [
        "from sklearn import datasets\n",
        "from sklearn.neighbors import KNeighborsClassifier\n",
        "from sklearn.metrics import classification_report"
      ],
      "execution_count": null,
      "outputs": []
    },
    {
      "cell_type": "code",
      "metadata": {
        "id": "-rrdBH8Ohaip"
      },
      "source": [
        "mnist=datasets.load_digits()"
      ],
      "execution_count": null,
      "outputs": []
    },
    {
      "cell_type": "code",
      "metadata": {
        "id": "sOUTotMrhaiq"
      },
      "source": [
        "X_train,X_test,Y_train,Y_test = train_test_split(np.array(mnist.data),mnist.target, test_size=0.3, random_state=42)"
      ],
      "execution_count": null,
      "outputs": []
    },
    {
      "cell_type": "code",
      "metadata": {
        "id": "MfEczsOthair",
        "outputId": "fb3b7697-2395-493a-b083-d7f6b7462e84"
      },
      "source": [
        "KNN_model=KNeighborsClassifier()\n",
        "para={'n_neighbors':[3,5,7,9],'weights':['uniform','distance']}\n",
        "KNN_Grid=GridSearchCV(KNN_model,param_grid=para,verbose=2)\n",
        "KNN_Grid.fit(X_train,Y_train)"
      ],
      "execution_count": null,
      "outputs": [
        {
          "output_type": "stream",
          "text": [
            "Fitting 5 folds for each of 8 candidates, totalling 40 fits\n"
          ],
          "name": "stdout"
        },
        {
          "output_type": "stream",
          "text": [
            "[Parallel(n_jobs=1)]: Using backend SequentialBackend with 1 concurrent workers.\n"
          ],
          "name": "stderr"
        },
        {
          "output_type": "stream",
          "text": [
            "[CV] n_neighbors=3, weights=uniform ..................................\n",
            "[CV] ................... n_neighbors=3, weights=uniform, total=   1.6s\n",
            "[CV] n_neighbors=3, weights=uniform ..................................\n"
          ],
          "name": "stdout"
        },
        {
          "output_type": "stream",
          "text": [
            "[Parallel(n_jobs=1)]: Done   1 out of   1 | elapsed:    1.6s remaining:    0.0s\n"
          ],
          "name": "stderr"
        },
        {
          "output_type": "stream",
          "text": [
            "[CV] ................... n_neighbors=3, weights=uniform, total=   0.4s\n",
            "[CV] n_neighbors=3, weights=uniform ..................................\n",
            "[CV] ................... n_neighbors=3, weights=uniform, total=   0.4s\n",
            "[CV] n_neighbors=3, weights=uniform ..................................\n",
            "[CV] ................... n_neighbors=3, weights=uniform, total=   0.3s\n",
            "[CV] n_neighbors=3, weights=uniform ..................................\n",
            "[CV] ................... n_neighbors=3, weights=uniform, total=   0.4s\n",
            "[CV] n_neighbors=3, weights=distance .................................\n",
            "[CV] .................. n_neighbors=3, weights=distance, total=   0.2s\n",
            "[CV] n_neighbors=3, weights=distance .................................\n",
            "[CV] .................. n_neighbors=3, weights=distance, total=   0.3s\n",
            "[CV] n_neighbors=3, weights=distance .................................\n",
            "[CV] .................. n_neighbors=3, weights=distance, total=   0.2s\n",
            "[CV] n_neighbors=3, weights=distance .................................\n",
            "[CV] .................. n_neighbors=3, weights=distance, total=   0.2s\n",
            "[CV] n_neighbors=3, weights=distance .................................\n",
            "[CV] .................. n_neighbors=3, weights=distance, total=   0.2s\n",
            "[CV] n_neighbors=5, weights=uniform ..................................\n",
            "[CV] ................... n_neighbors=5, weights=uniform, total=   0.3s\n",
            "[CV] n_neighbors=5, weights=uniform ..................................\n",
            "[CV] ................... n_neighbors=5, weights=uniform, total=   0.3s\n",
            "[CV] n_neighbors=5, weights=uniform ..................................\n",
            "[CV] ................... n_neighbors=5, weights=uniform, total=   0.2s\n",
            "[CV] n_neighbors=5, weights=uniform ..................................\n",
            "[CV] ................... n_neighbors=5, weights=uniform, total=   0.2s\n",
            "[CV] n_neighbors=5, weights=uniform ..................................\n",
            "[CV] ................... n_neighbors=5, weights=uniform, total=   0.2s\n",
            "[CV] n_neighbors=5, weights=distance .................................\n",
            "[CV] .................. n_neighbors=5, weights=distance, total=   0.2s\n",
            "[CV] n_neighbors=5, weights=distance .................................\n",
            "[CV] .................. n_neighbors=5, weights=distance, total=   0.2s\n",
            "[CV] n_neighbors=5, weights=distance .................................\n",
            "[CV] .................. n_neighbors=5, weights=distance, total=   0.2s\n",
            "[CV] n_neighbors=5, weights=distance .................................\n",
            "[CV] .................. n_neighbors=5, weights=distance, total=   0.2s\n",
            "[CV] n_neighbors=5, weights=distance .................................\n",
            "[CV] .................. n_neighbors=5, weights=distance, total=   0.2s\n",
            "[CV] n_neighbors=7, weights=uniform ..................................\n",
            "[CV] ................... n_neighbors=7, weights=uniform, total=   0.2s\n",
            "[CV] n_neighbors=7, weights=uniform ..................................\n",
            "[CV] ................... n_neighbors=7, weights=uniform, total=   0.2s\n",
            "[CV] n_neighbors=7, weights=uniform ..................................\n",
            "[CV] ................... n_neighbors=7, weights=uniform, total=   0.2s\n",
            "[CV] n_neighbors=7, weights=uniform ..................................\n",
            "[CV] ................... n_neighbors=7, weights=uniform, total=   0.2s\n",
            "[CV] n_neighbors=7, weights=uniform ..................................\n",
            "[CV] ................... n_neighbors=7, weights=uniform, total=   0.2s\n",
            "[CV] n_neighbors=7, weights=distance .................................\n",
            "[CV] .................. n_neighbors=7, weights=distance, total=   0.9s\n",
            "[CV] n_neighbors=7, weights=distance .................................\n",
            "[CV] .................. n_neighbors=7, weights=distance, total=   0.9s\n",
            "[CV] n_neighbors=7, weights=distance .................................\n",
            "[CV] .................. n_neighbors=7, weights=distance, total=   0.5s\n",
            "[CV] n_neighbors=7, weights=distance .................................\n",
            "[CV] .................. n_neighbors=7, weights=distance, total=   0.5s\n",
            "[CV] n_neighbors=7, weights=distance .................................\n",
            "[CV] .................. n_neighbors=7, weights=distance, total=   0.5s\n",
            "[CV] n_neighbors=9, weights=uniform ..................................\n",
            "[CV] ................... n_neighbors=9, weights=uniform, total=   0.4s\n",
            "[CV] n_neighbors=9, weights=uniform ..................................\n",
            "[CV] ................... n_neighbors=9, weights=uniform, total=   0.4s\n",
            "[CV] n_neighbors=9, weights=uniform ..................................\n",
            "[CV] ................... n_neighbors=9, weights=uniform, total=   0.5s\n",
            "[CV] n_neighbors=9, weights=uniform ..................................\n",
            "[CV] ................... n_neighbors=9, weights=uniform, total=   0.4s\n",
            "[CV] n_neighbors=9, weights=uniform ..................................\n",
            "[CV] ................... n_neighbors=9, weights=uniform, total=   0.3s\n",
            "[CV] n_neighbors=9, weights=distance .................................\n",
            "[CV] .................. n_neighbors=9, weights=distance, total=   0.3s\n",
            "[CV] n_neighbors=9, weights=distance .................................\n",
            "[CV] .................. n_neighbors=9, weights=distance, total=   0.2s\n",
            "[CV] n_neighbors=9, weights=distance .................................\n",
            "[CV] .................. n_neighbors=9, weights=distance, total=   0.3s\n",
            "[CV] n_neighbors=9, weights=distance .................................\n",
            "[CV] .................. n_neighbors=9, weights=distance, total=   0.2s\n",
            "[CV] n_neighbors=9, weights=distance .................................\n",
            "[CV] .................. n_neighbors=9, weights=distance, total=   0.3s\n"
          ],
          "name": "stdout"
        },
        {
          "output_type": "stream",
          "text": [
            "[Parallel(n_jobs=1)]: Done  40 out of  40 | elapsed:   14.2s finished\n"
          ],
          "name": "stderr"
        },
        {
          "output_type": "execute_result",
          "data": {
            "text/plain": [
              "GridSearchCV(estimator=KNeighborsClassifier(),\n",
              "             param_grid={'n_neighbors': [3, 5, 7, 9],\n",
              "                         'weights': ['uniform', 'distance']},\n",
              "             verbose=2)"
            ]
          },
          "metadata": {
            "tags": []
          },
          "execution_count": 151
        }
      ]
    },
    {
      "cell_type": "code",
      "metadata": {
        "id": "niX7JmImhait"
      },
      "source": [
        "knn_prediction=KNN_Grid.predict(X_test)"
      ],
      "execution_count": null,
      "outputs": []
    },
    {
      "cell_type": "code",
      "metadata": {
        "id": "vBKED7Y1haiu",
        "outputId": "2e6a3d1b-6e98-49c9-8782-793f17b156cd"
      },
      "source": [
        "KNN_Grid.best_estimator_"
      ],
      "execution_count": null,
      "outputs": [
        {
          "output_type": "execute_result",
          "data": {
            "text/plain": [
              "KNeighborsClassifier(n_neighbors=3, weights='distance')"
            ]
          },
          "metadata": {
            "tags": []
          },
          "execution_count": 153
        }
      ]
    },
    {
      "cell_type": "code",
      "metadata": {
        "id": "qUJ24MExhaiv",
        "outputId": "2f0f3fa6-6b0c-42c9-b41d-eb8911a3e100"
      },
      "source": [
        "class_report=classification_report(Y_test,knn_prediction)\n",
        "print(class_report)"
      ],
      "execution_count": null,
      "outputs": [
        {
          "output_type": "stream",
          "text": [
            "              precision    recall  f1-score   support\n",
            "\n",
            "           0       1.00      1.00      1.00        53\n",
            "           1       0.98      1.00      0.99        50\n",
            "           2       1.00      1.00      1.00        47\n",
            "           3       0.98      1.00      0.99        54\n",
            "           4       0.98      1.00      0.99        60\n",
            "           5       0.99      1.00      0.99        66\n",
            "           6       1.00      1.00      1.00        53\n",
            "           7       1.00      0.98      0.99        55\n",
            "           8       0.98      0.98      0.98        43\n",
            "           9       0.98      0.93      0.96        59\n",
            "\n",
            "    accuracy                           0.99       540\n",
            "   macro avg       0.99      0.99      0.99       540\n",
            "weighted avg       0.99      0.99      0.99       540\n",
            "\n"
          ],
          "name": "stdout"
        }
      ]
    },
    {
      "cell_type": "code",
      "metadata": {
        "id": "Bvj8Nka-haix"
      },
      "source": [
        ""
      ],
      "execution_count": null,
      "outputs": []
    }
  ]
}